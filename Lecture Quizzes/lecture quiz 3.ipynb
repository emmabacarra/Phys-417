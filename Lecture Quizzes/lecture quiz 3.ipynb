{
 "cells": [
  {
   "cell_type": "markdown",
   "metadata": {},
   "source": [
    "Define a neural network model class \"myCNNModel\" with the following specifications. \n",
    "\n",
    "- Convolution layer 1 = input channels = 1, output channels = 16, kernel size 3, stride = 1, padding = 0, ReLU activation.\n",
    "- Max pool layer 1 = kernel size 2\n",
    "- Convolution layer 2 = input channels = 16, output channels = 32, kernel size 3, stride = 1, padding = 0, ReLU activation.\n",
    "- Max pool layer 2 = kernel size 2\n",
    "- Fully Connected layer 1 = 800 neurons\n",
    "- Output layer = 10 neurons"
   ]
  },
  {
   "cell_type": "code",
   "execution_count": 1,
   "metadata": {},
   "outputs": [],
   "source": [
    "import torch\n",
    "import torch.nn as nn\n",
    "import torch.nn.functional as F\n",
    "\n",
    "class myCNNModel(nn.Module):\n",
    "    def __init__(self):\n",
    "        super(myCNNModel, self).__init__()\n",
    "        self.conv1 = nn.Conv2d(1, 16, 3, 1, 0)\n",
    "        self.conv2 = nn.Conv2d(16, 32, 3, 1, 0)\n",
    "        self.fc1 = nn.Linear(32 * 6 * 6, 800)\n",
    "        self.fc2 = nn.Linear(800, 10)\n",
    "\n",
    "    def forward(self, x):\n",
    "        x = F.relu(self.conv1(x))\n",
    "        x = F.max_pool2d(x, 2)\n",
    "        x = F.relu(self.conv2(x))\n",
    "        x = F.max_pool2d(x, 2)\n",
    "        x = x.view(-1, 32 * 6 * 6) # flatten the output of conv2 to feed to fc1\n",
    "        x = F.relu(self.fc1(x))\n",
    "        x = self.fc2(x)\n",
    "        return x"
   ]
  },
  {
   "cell_type": "code",
   "execution_count": null,
   "metadata": {},
   "outputs": [],
   "source": []
  }
 ],
 "metadata": {
  "kernelspec": {
   "display_name": "Phys417",
   "language": "python",
   "name": "python3"
  },
  "language_info": {
   "codemirror_mode": {
    "name": "ipython",
    "version": 3
   },
   "file_extension": ".py",
   "mimetype": "text/x-python",
   "name": "python",
   "nbconvert_exporter": "python",
   "pygments_lexer": "ipython3",
   "version": "3.11.8"
  }
 },
 "nbformat": 4,
 "nbformat_minor": 2
}
