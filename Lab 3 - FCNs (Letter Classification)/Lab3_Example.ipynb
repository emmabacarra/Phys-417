{
 "cells": [
  {
   "cell_type": "markdown",
   "id": "a69298dd",
   "metadata": {},
   "source": [
    "# <span style='color:blue'> LAB 3: </span>\n",
    "# <span style='color:blue'> FULLY CONNECTED DEEP NETWORKS </span>"
   ]
  },
  {
   "cell_type": "code",
   "execution_count": 1,
   "id": "4e2bdb6d",
   "metadata": {},
   "outputs": [],
   "source": [
    "%matplotlib inline\n",
    "\n",
    "import matplotlib.pyplot as plt\n",
    "import torch\n",
    "import numpy as np"
   ]
  },
  {
   "cell_type": "markdown",
   "id": "ed117c5c",
   "metadata": {},
   "source": [
    "# <span style='color:red'> Part 2: Additional Data Prep Methods ----------------------------------------------------------</span>"
   ]
  },
  {
   "cell_type": "markdown",
   "id": "e4caffa5",
   "metadata": {},
   "source": [
    "### 2.1 - One-hot Encoding"
   ]
  },
  {
   "cell_type": "code",
   "execution_count": 2,
   "id": "4d736334",
   "metadata": {},
   "outputs": [
    {
     "name": "stdout",
     "output_type": "stream",
     "text": [
      "tensor([0, 1, 2])\n"
     ]
    }
   ],
   "source": [
    "# Each integer corresponding to a label\n",
    "\n",
    "labels = torch.tensor([0,1,2]) \n",
    "print(labels)"
   ]
  },
  {
   "cell_type": "code",
   "execution_count": 3,
   "id": "735ac46b",
   "metadata": {},
   "outputs": [
    {
     "name": "stdout",
     "output_type": "stream",
     "text": [
      "tensor([[1, 0, 0],\n",
      "        [0, 1, 0],\n",
      "        [0, 0, 1]])\n"
     ]
    }
   ],
   "source": [
    "# Using torch.nn.functional.one_hot() to convert the integer labels to one-hot encoding\n",
    "\n",
    "labels_one_hot = torch.nn.functional.one_hot(labels) \n",
    "print(labels_one_hot)"
   ]
  },
  {
   "cell_type": "markdown",
   "id": "b09ce0e9",
   "metadata": {},
   "source": [
    "# <span style='color:red'> Part 5: Training FCN (Iris Classification example) -------------------------------------------</span>"
   ]
  },
  {
   "cell_type": "markdown",
   "id": "debcdee1",
   "metadata": {},
   "source": [
    "### Prepare Data"
   ]
  },
  {
   "cell_type": "code",
   "execution_count": 4,
   "id": "bedfebe8",
   "metadata": {},
   "outputs": [],
   "source": [
    "# Import necessary functions from scikit-learn library\n",
    "from sklearn.datasets import load_iris\n",
    "from sklearn.preprocessing import StandardScaler\n",
    "from sklearn.model_selection import train_test_split\n",
    "\n",
    "# iris dataset is available from scikit-learn package\n",
    "iris = load_iris()\n",
    "\n",
    "# Load the X (features) and y (targets) for training\n",
    "X = iris['data']\n",
    "y = iris['target']\n",
    "\n",
    "# Scale the input dataset X with standard scaling using scikit-learn\n",
    "scaler = StandardScaler()\n",
    "X_scaled = scaler.fit_transform(X)\n",
    "\n",
    "# Split the dataset with training (80%) and testing (20%) using train_test_split from scikit_learn\n",
    "X_train, X_test, y_train, y_test = train_test_split(X_scaled, y, \n",
    "                                                    test_size=0.2, \n",
    "                                                    random_state=2)\n",
    "\n",
    "# We will additionally split the training data into training and validation\n",
    "# The final split ratios are training: 60%, validation: 20% and testing 20%\n",
    "X_validation = X_train[:int(len(X_test))]\n",
    "y_validation = y_train[:int(len(X_test))]\n",
    "\n",
    "X_train = X_train[int(len(X_test)):]\n",
    "y_train = y_train[int(len(X_test)):]"
   ]
  },
  {
   "cell_type": "markdown",
   "id": "e9aee8cc",
   "metadata": {},
   "source": [
    "### Define Model"
   ]
  },
  {
   "cell_type": "code",
   "execution_count": 5,
   "id": "e5f6ebac",
   "metadata": {},
   "outputs": [],
   "source": [
    "class irisClassificationFCN(torch.nn.Module):\n",
    "    \n",
    "    def __init__(self, input_dim, output_dim, hidden1_dim, hidden2_dim):# Add parameters for dimensions of 2 hidden layers \n",
    "        \n",
    "        super(irisClassificationFCN, self).__init__()\n",
    "        \n",
    "        self.layer1 = torch.nn.Linear(input_dim, hidden1_dim)    # Connections from input to hidden layer 1\n",
    "        self.layer2 = torch.nn.Linear(hidden1_dim, hidden2_dim)  # Connections from hidden layer 1 to hidden layer 2\n",
    "        self.layer3 = torch.nn.Linear(hidden2_dim, output_dim)   # Connections from hidden layer 2 to final output\n",
    "        \n",
    "    def forward(self, x):\n",
    "        \n",
    "        out1 = torch.nn.functional.relu(self.layer1(x))          # Apply relu activation to layer 1 output\n",
    "        out2 = torch.nn.functional.relu(self.layer2(out1))       # Apply relu activation to layer 2 output\n",
    "        output = self.layer3(out2)                               # Return raw layer 3 output\n",
    "        \n",
    "        return output"
   ]
  },
  {
   "cell_type": "markdown",
   "id": "8e73e9ca",
   "metadata": {},
   "source": [
    "### Define Hyperparameters"
   ]
  },
  {
   "cell_type": "code",
   "execution_count": 6,
   "id": "f169e3ac",
   "metadata": {},
   "outputs": [
    {
     "data": {
      "text/plain": [
       "irisClassificationFCN(\n",
       "  (layer1): Linear(in_features=4, out_features=30, bias=True)\n",
       "  (layer2): Linear(in_features=30, out_features=10, bias=True)\n",
       "  (layer3): Linear(in_features=10, out_features=3, bias=True)\n",
       ")"
      ]
     },
     "execution_count": 6,
     "metadata": {},
     "output_type": "execute_result"
    }
   ],
   "source": [
    "# Initialize our neural network model with input, output and hidden layer dimensions\n",
    "model = irisClassificationFCN(input_dim = 4, output_dim = 3, hidden1_dim = 30, hidden2_dim = 10)\n",
    "\n",
    "# Define the learning rate and epoch\n",
    "learning_rate = 0.025 \n",
    "epochs = 25\n",
    "\n",
    "# Define loss function (CrossEntropyLoss) and optimizer (Adam)\n",
    "loss_func = torch.nn.CrossEntropyLoss() # Using cross entropy loss since we are outputing probabilities\n",
    "optimizer = torch.optim.Adam(model.parameters(), lr = learning_rate) # Using Adam for more effective optimization\n",
    "\n",
    "model"
   ]
  },
  {
   "cell_type": "markdown",
   "id": "5bf57c25",
   "metadata": {},
   "source": [
    "### Identify Tracked Values"
   ]
  },
  {
   "cell_type": "code",
   "execution_count": 7,
   "id": "28e89bcd",
   "metadata": {
    "scrolled": true
   },
   "outputs": [],
   "source": [
    "# Placeholders for training loss and validation accuracy during training\n",
    "\n",
    "train_loss_list = np.zeros((epochs,))\n",
    "validation_accuracy_list = np.zeros((epochs,))"
   ]
  },
  {
   "cell_type": "markdown",
   "id": "af0d05e4",
   "metadata": {},
   "source": [
    "### Train Model"
   ]
  },
  {
   "cell_type": "code",
   "execution_count": 8,
   "id": "c38ec1d4",
   "metadata": {},
   "outputs": [
    {
     "name": "stderr",
     "output_type": "stream",
     "text": [
      "100%|██████████| 25/25 [00:00<00:00, 635.85it/s]\n"
     ]
    }
   ],
   "source": [
    "import tqdm # For keeping track of our training progress in percentage\n",
    "\n",
    "# Convert the training, validation, testing dataset (NumPy arrays) into torch tensors\n",
    "\n",
    "train_inputs = torch.from_numpy(X_train).float()\n",
    "train_targets = torch.from_numpy(y_train).long() # Convert to 64-bit integer\n",
    "\n",
    "validation_inputs = torch.from_numpy(X_validation).float()\n",
    "validation_targets = torch.from_numpy(y_validation).long()\n",
    "\n",
    "testing_inputs = torch.from_numpy(X_test).float()\n",
    "testing_targets = torch.from_numpy(y_test).long()\n",
    "\n",
    "# Training Loop ---------------------------------------------------------------------------------------\n",
    "\n",
    "for epoch in tqdm.trange(epochs):\n",
    "    \n",
    "    optimizer.zero_grad()\n",
    "    \n",
    "    train_outputs = model(train_inputs)\n",
    "    \n",
    "    loss = loss_func(train_outputs, train_targets)\n",
    "    \n",
    "    train_loss_list[epoch] = loss.item()\n",
    "    \n",
    "    loss.backward()\n",
    "    \n",
    "    optimizer.step()\n",
    "    \n",
    "    # Compute Validation Accuracy ----------------------------------------------------------------------\n",
    "    \n",
    "    with torch.no_grad(): # Telling PyTorch we aren't passing inputs to network for training purpose\n",
    "        \n",
    "        # Pass the validation feature data (30 samples) to the network\n",
    "        validation_outputs = model(validation_inputs)\n",
    "        \n",
    "        # validation_outputs = tensor of shape (30, 3), i.e., 30 predictions and each prediction has 3 probabilities.\n",
    "        # These are classification probabilities for each flower type: [p(setosa), p(versicolor), p(virginica)].\n",
    "        # torch.argmax(validation_outputs, dim=1) finds the index with the maximum value alongside the column direction\n",
    "        # i.e. for each sample, it finds the column index with the highest probability.\n",
    "        # == validation_targets compares these indices with groundtruth validation target labels for each sample\n",
    "        # For each sample, it returns True if the index matches the target, False otherwise\n",
    "        # .type(torch.FloatTensor) converts True = 1, False = 0\n",
    "        # Finally .mean() gives us (Total count of 1) / (Length of the 1D tensor), giving us the classification accuracy  \n",
    "        \n",
    "        correct = (torch.argmax(validation_outputs, dim=1) == \n",
    "                   validation_targets).type(torch.FloatTensor)\n",
    "        \n",
    "        validation_accuracy_list[epoch] = correct.mean()"
   ]
  },
  {
   "cell_type": "markdown",
   "id": "8e40b582",
   "metadata": {},
   "source": [
    "### Visualize and Evaluate Model"
   ]
  },
  {
   "cell_type": "code",
   "execution_count": 9,
   "id": "5eb9d4d3",
   "metadata": {},
   "outputs": [],
   "source": [
    "# Import seaborn to make prettier plots\n",
    "\n",
    "import seaborn as sns\n",
    "\n",
    "sns.set(style = 'whitegrid', font_scale = 1.5)"
   ]
  },
  {
   "cell_type": "code",
   "execution_count": 10,
   "id": "69fbeb70",
   "metadata": {},
   "outputs": [
    {
     "data": {
      "image/png": "[encoded data removed]",
      "text/plain": [
       "<Figure size 1200x600 with 2 Axes>"
      ]
     },
     "metadata": {},
     "output_type": "display_data"
    }
   ],
   "source": [
    "# Plot training loss and validation accuracy throughout the training epochs\n",
    "\n",
    "plt.figure(figsize = (12, 6))\n",
    "\n",
    "plt.subplot(2, 1, 1)\n",
    "plt.plot(train_loss_list, linewidth = 3)\n",
    "plt.ylabel(\"training loss\")\n",
    "plt.xlabel(\"epochs\")\n",
    "\n",
    "plt.subplot(2, 1, 2)\n",
    "plt.plot(validation_accuracy_list, linewidth = 3, color = 'gold')\n",
    "plt.ylabel(\"validation accuracy\")\n",
    "sns.despine()"
   ]
  },
  {
   "cell_type": "code",
   "execution_count": 11,
   "id": "cbab3576",
   "metadata": {},
   "outputs": [
    {
     "name": "stdout",
     "output_type": "stream",
     "text": [
      "Testing Accuracy: 93.33333373069763%\n"
     ]
    }
   ],
   "source": [
    "with torch.no_grad():\n",
    "    \n",
    "    # Pass the testing feature data (30 samples) to the network to produce model predictions\n",
    "    y_pred_test = model(testing_inputs) \n",
    "    \n",
    "    # Use the same technique as above to commpute the testing classification accuracy\n",
    "    correct = (torch.argmax(y_pred_test, dim=1) == testing_targets).type(torch.FloatTensor)\n",
    "    \n",
    "    print(\"Testing Accuracy: \" + str(correct.mean().numpy()*100) + '%')"
   ]
  }
 ],
 "metadata": {
  "kernelspec": {
   "display_name": "Python 3 (ipykernel)",
   "language": "python",
   "name": "python3"
  },
  "language_info": {
   "codemirror_mode": {
    "name": "ipython",
    "version": 3
   },
   "file_extension": ".py",
   "mimetype": "text/x-python",
   "name": "python",
   "nbconvert_exporter": "python",
   "pygments_lexer": "ipython3",
   "version": "3.11.8"
  }
 },
 "nbformat": 4,
 "nbformat_minor": 5
}
