{
 "cells": [
  {
   "cell_type": "code",
   "execution_count": 1,
   "metadata": {},
   "outputs": [
    {
     "data": {
      "text/plain": [
       "'c:\\\\Users\\\\ebaca\\\\Desktop\\\\Phys 417\\\\Final Project - HEP Tagging'"
      ]
     },
     "execution_count": 1,
     "metadata": {},
     "output_type": "execute_result"
    }
   ],
   "source": [
    "import os\n",
    "import sys\n",
    "os.getcwd()"
   ]
  },
  {
   "cell_type": "code",
   "execution_count": 2,
   "metadata": {},
   "outputs": [],
   "source": [
    "# importing libraries & making torch.device object for GPU\n",
    "\n",
    "# neural network packages\n",
    "import torch\n",
    "import torch.nn as nn\n",
    "from torch.nn import Transformer\n",
    "from torch import Tensor\n",
    "from torch.utils.data import DataLoader\n",
    "sys.path.append('..\\\\..\\\\PHYS417_Project')\n",
    "from nnrunner import NetRunner\n",
    "\n",
    "# data packages\n",
    "import numpy as np\n",
    "import math\n",
    "import pandas as pd\n",
    "import sklearn.preprocessing as prep\n",
    "from sklearn.model_selection import train_test_split\n",
    "from sklearn.utils import shuffle\n",
    "import fndict as fd\n",
    "\n",
    "# visual packages\n",
    "import matplotlib.pyplot as plt\n",
    "%matplotlib inline\n",
    "import seaborn as sns\n",
    "import tqdm\n",
    "import warnings\n",
    "\n",
    "# Create a torch.device object to tell pytorch where to store your tensors: cpu or gpu\n",
    "DEVICE = torch.device('cuda' if torch.cuda.is_available() else 'cpu')"
   ]
  },
  {
   "cell_type": "markdown",
   "metadata": {},
   "source": [
    "<b>About the Dataset</b>\n",
    "\n",
    "<u>Tag</u>: the type of the original particles involved in the collision\n",
    "\n",
    "<u>Jet</u>: collection of particles that hadronized (decayed) together into a stable particle\n",
    "\n",
    "Per jet, variable number of constituents (rows) with 5 features (columns):\n",
    "1. $p_T$: transverse momentum as a fraction of the jet total\n",
    "2. $\\eta$: angular coordinate relative to jet center\n",
    "3. $\\phi$: angular coordinate relative to jet center\n",
    "4. $E$: energy from constituent\n",
    "5. $\\Delta R = \\sqrt{\\eta^2 + \\phi^2}$"
   ]
  },
  {
   "cell_type": "markdown",
   "metadata": {},
   "source": [
    "#### Preparing the Data"
   ]
  },
  {
   "cell_type": "markdown",
   "metadata": {},
   "source": [
    "Normalization: Numerical data should be on a similar scale, typically between 0 and 1. This will help the model learn more efficiently. Use scaling such as Min-Max Scaling or Z-score normalization techniques\n",
    "\n",
    "Imbalance: If some target classes have significantly more instances than others, the model may become biased towards the majority class. Try over-sampling the minority class or under-sampling the majority class to address this.\n",
    "\n",
    "Sequence Length Uniformity: Since the sequences have varying lengths, padding or truncation will help to standardize them. This will ensure that the transformer model can handle the input effectively."
   ]
  },
  {
   "cell_type": "code",
   "execution_count": 3,
   "metadata": {},
   "outputs": [
    {
     "name": "stdout",
     "output_type": "stream",
     "text": [
      "--Establishing Training Features/Targets--\n",
      "features (x): (20000, 188, 5) \n",
      "targets (y): (20000, 5)\n",
      "\n",
      " --Splitting Data--\n",
      "Training set: (12000, 188, 5) (12000, 5)\n",
      "Validation set: (4000, 188, 5) (4000, 5)\n",
      "Testing set: (4000, 188, 5) (4000, 5)\n",
      "\n",
      " --Sending to GPU--\n"
     ]
    }
   ],
   "source": [
    "# ---- STEP 1: establishing training features (x) and training targets (y) data -----------------------\n",
    "print(\"--Establishing Training Features/Targets--\")\n",
    "# while training, model enters in the training features (x) and evaluates against the training targets (y)\n",
    "\n",
    "''' michael's data extraction: 10,000 final state particles per file and scaled with standard scaler '''\n",
    "\n",
    "# event data/properties represented by a N x 5 matrix (N = variable number of constituents)\n",
    "x1 = np.load('..\\\\..\\\\PHYS417_Project\\\\data_1.npz')['x'] \n",
    "x2 = np.load('..\\\\..\\\\PHYS417_Project\\\\data_2.npz')['x']\n",
    "x = np.concatenate((x1, x2), axis=0)\n",
    "\n",
    "# jet type identifier of a single 5 x 1 binary matrix (0 = no, 1 = yes)\n",
    "y1 = np.load('..\\\\..\\\\PHYS417_Project\\\\data_1.npz')['y']\n",
    "y2 = np.load('..\\\\..\\\\PHYS417_Project\\\\data_2.npz')['y']\n",
    "y = np.concatenate((y1, y2), axis=0)\n",
    "\n",
    "print(\"features (x):\", x.shape, \"\\ntargets (y):\", y.shape)\n",
    "\n",
    "\n",
    "\n",
    "# ---- STEP 2: splitting data into training, validation, and testing sets -----------------------------\n",
    "print(\"\\n --Splitting Data--\")\n",
    "\n",
    "# shuffling for random selection, setting seed to 0 for reproduceability below\n",
    "x, y = shuffle(x, y, random_state=0) \n",
    "\n",
    "# splitting data into training and testing sets\n",
    "# the testing data is used to evaluate the model's performance after training for predictions on unseen data\n",
    "# test_size = 0.2 means 20% of the data is for testing and 80% for training\n",
    "trfeat, tefeat, trtarget, tetarget = train_test_split(x, y, test_size=0.2, random_state=0)\n",
    "\n",
    "# splitting data again to get validation set\n",
    "# the validation data is used to visualize/evaluate performance during training to help with tuning \n",
    "# 0.25 x 0.8 = 0.2\n",
    "trfeat, vafeat, trtarget, vatarget = train_test_split(trfeat, trtarget, test_size=0.25, random_state=0) \n",
    "\n",
    "print(\"Training set:\", trfeat.shape, trtarget.shape)\n",
    "print(\"Validation set:\", vafeat.shape, vatarget.shape)\n",
    "print(\"Testing set:\", tefeat.shape, tetarget.shape)\n",
    "\n",
    "\n",
    "''' DATA PRE-SCALED, NO NEED TO NORMALIZE '''\n",
    "\n",
    "\n",
    "\n",
    "# ---- STEP 3: sending to GPU  --------------------------------------------------------------\n",
    "print(\"\\n --Sending to GPU--\")\n",
    "\n",
    "with warnings.catch_warnings(): # booo warnings\n",
    "    warnings.simplefilter(\"ignore\")\n",
    "\n",
    "    trfeat = torch.tensor(torch.from_numpy(trfeat), dtype=torch.float32).to(DEVICE)\n",
    "    trtarget = torch.tensor(torch.from_numpy(trtarget), dtype=torch.float32).to(DEVICE)\n",
    "\n",
    "    vafeat = torch.tensor(torch.from_numpy(vafeat), dtype=torch.float32).to(DEVICE)\n",
    "    vatarget = torch.tensor(torch.from_numpy(vatarget), dtype=torch.float32).to(DEVICE)\n",
    "    \n",
    "    tefeat = torch.tensor(torch.from_numpy(tefeat), dtype=torch.float32).to(DEVICE)\n",
    "    tetarget = torch.tensor(torch.from_numpy(tetarget), dtype=torch.float32).to(DEVICE)"
   ]
  },
  {
   "cell_type": "markdown",
   "metadata": {},
   "source": [
    "#### Build Model & Initialize"
   ]
  },
  {
   "cell_type": "code",
   "execution_count": 4,
   "metadata": {},
   "outputs": [
    {
     "name": "stderr",
     "output_type": "stream",
     "text": [
      "c:\\Users\\ebaca\\anaconda3\\envs\\Phys417\\Lib\\site-packages\\torch\\nn\\modules\\transformer.py:306: UserWarning: enable_nested_tensor is True, but self.use_nested_tensor is False because encoder_layer.self_attn.batch_first was not True(use batch_first for better inference performance)\n",
      "  warnings.warn(f\"enable_nested_tensor is True, but self.use_nested_tensor is False because {why_not_sparsity_fast_path}\")\n"
     ]
    }
   ],
   "source": [
    "# ---- BUILDING THE MODEL -----------------------------\n",
    "class ParticleClassifier(nn.Module):\n",
    "    def __init__(self,\n",
    "                 num_encoder_layers,\n",
    "                 embedding_size,\n",
    "                 num_heads,\n",
    "                 num_classes,\n",
    "                 dim_feedforward=512,\n",
    "                 dropout=0.1):\n",
    "        super(ParticleClassifier, self).__init__()\n",
    "        self.transformer = nn.TransformerEncoder(\n",
    "            nn.TransformerEncoderLayer(d_model=embedding_size,\n",
    "                                       nhead=num_heads,\n",
    "                                       dim_feedforward=dim_feedforward,\n",
    "                                       dropout=dropout),\n",
    "            num_layers=num_encoder_layers)\n",
    "        self.generator = nn.Linear(embedding_size, num_classes)\n",
    "        # self.positional_encoding = PositionalEncoding(\n",
    "        #     embedding_size, dropout=dropout)\n",
    "        # self.adaptive_pool = nn.AdaptiveAvgPool1d(embedding_size)\n",
    "        self.maxpool = nn.MaxPool1d(embedding_size)\n",
    "\n",
    "    def forward(self, src, src_mask=None, src_padding_mask=None):\n",
    "        if src.dim() == 2:\n",
    "            src = src.unsqueeze(1)\n",
    "        # src = self.positional_encoding(src)\n",
    "        outs = self.transformer(src, src_mask, src_padding_mask)\n",
    "        # return self.generator(outs.mean(dim=1))\n",
    "        # outs = self.adaptive_pool(outs.transpose(1, 2)).transpose(1, 2)\n",
    "        outs = self.maxpool(outs.transpose(1, 2)).transpose(1, 2)\n",
    "        # outs = outs.transpose(1, 2)\n",
    "        return self.generator(outs.squeeze(1))\n",
    "\n",
    "    def encode(self, src: Tensor, src_mask: Tensor):\n",
    "        return self.transformer(self.positional_encoding(src), src_mask)\n",
    "\n",
    "\n",
    "# ---- INITIALIZING MODEL -----------------------------\n",
    "classifier = ParticleClassifier(\n",
    "    num_encoder_layers = 2, # needs to stay 2 or GPU will have memory issues\n",
    "    embedding_size = 5,  # number of properties per constituent\n",
    "    num_heads = fd.highest_divisor(5), \n",
    "    num_classes = 5,  # number of final state particles\n",
    "    dim_feedforward = 256, # limit at 512\n",
    "    dropout = 0.15 # probability of an element to be zeroed\n",
    ").to(DEVICE)"
   ]
  },
  {
   "cell_type": "markdown",
   "metadata": {},
   "source": [
    "#### Train Model"
   ]
  },
  {
   "cell_type": "markdown",
   "metadata": {},
   "source": [
    "<b>Hyperparameters</b>\n",
    "\n",
    "Fair warning: you might get an \"out of memory\" error when training. If that happens, try reducing the batch size\n",
    "\n",
    "betas are hyperparameters that control the exponential moving averages\n",
    "\n",
    "eps is a small constant added to improve numerical stability by preventing division by zero"
   ]
  },
  {
   "cell_type": "code",
   "execution_count": 5,
   "metadata": {},
   "outputs": [],
   "source": [
    "epochs = 70\n",
    "batch_size = 15\n",
    "learning_rate = 0.002\n",
    "betas = (0.9, 0.98)\n",
    "eps = 1e-8"
   ]
  },
  {
   "cell_type": "markdown",
   "metadata": {},
   "source": [
    "<b>Begin Training with Training Data</b>"
   ]
  },
  {
   "cell_type": "code",
   "execution_count": 6,
   "metadata": {},
   "outputs": [
    {
     "name": "stdout",
     "output_type": "stream",
     "text": [
      "Learning Rate: 0.002 \n",
      "Batch Size: 15 \n",
      "Epochs: 70 \n",
      "\n"
     ]
    },
    {
     "name": "stderr",
     "output_type": "stream",
     "text": [
      "100%|██████████| 70/70 [20:18<00:00, 17.41s/it]"
     ]
    },
    {
     "name": "stdout",
     "output_type": "stream",
     "text": [
      "Total Train Time: 20m 18.7s\n"
     ]
    },
    {
     "name": "stderr",
     "output_type": "stream",
     "text": [
      "\n"
     ]
    }
   ],
   "source": [
    "from timeit import default_timer as timer\n",
    "\n",
    "# trfeat = trfeat.float()\n",
    "trtarget = trtarget.long() # convert to 64-bit integer for CrossEntropyLoss\n",
    "\n",
    "# vafeat = vafeat.float()\n",
    "vatarget = vatarget.long()\n",
    "\n",
    "# tefeat = tefeat.float()\n",
    "# tetarget = tetarget.long()\n",
    "\n",
    "loss_fn = torch.nn.CrossEntropyLoss()\n",
    "optimizer = torch.optim.Adam(classifier.parameters(), lr=learning_rate, betas=betas, eps=eps)\n",
    "\n",
    "# Training Loop ---------------------------------------------------------------------------------------\n",
    "\n",
    "trlosses = []\n",
    "valosses = []\n",
    "\n",
    "print(f'Learning Rate: {learning_rate} \\nBatch Size: {batch_size} \\nEpochs: {epochs} \\n')\n",
    "with warnings.catch_warnings(): # booo warnings\n",
    "    warnings.simplefilter(\"ignore\")\n",
    "    \n",
    "    start_time = timer()\n",
    "    for epoch in tqdm.trange(epochs):\n",
    "        \n",
    "        optimizer.zero_grad()\n",
    "        \n",
    "        train_outputs = classifier(trfeat)\n",
    "        \n",
    "        loss = loss_fn(train_outputs, trtarget)\n",
    "        \n",
    "        trlosses.append(loss.item())\n",
    "        \n",
    "        loss.backward()\n",
    "        \n",
    "        optimizer.step()\n",
    "        \n",
    "        # Compute Validation Accuracy ----------------------------------------------------------------------\n",
    "        \n",
    "        with torch.no_grad(): # Telling PyTorch we aren't passing inputs to network for training purpose\n",
    "            \n",
    "            validation_outputs = classifier(vafeat)\n",
    "            \n",
    "            correct = (torch.argmax(validation_outputs, dim=1) == \n",
    "                    vatarget).type(torch.FloatTensor)\n",
    "            \n",
    "            valosses.append(correct.mean())\n",
    "    end_time = timer()\n",
    "    time = end_time - start_time\n",
    "    print(f\"Total Train Time: {'{:.0f}m {:.1f}s'.format(*divmod(time, 60))}\")"
   ]
  },
  {
   "cell_type": "markdown",
   "metadata": {},
   "source": [
    "<b>Visualizing the Training</b>"
   ]
  },
  {
   "cell_type": "code",
   "execution_count": 7,
   "metadata": {},
   "outputs": [
    {
     "data": {
      "image/png": "[encoded data removed]",
      "text/plain": [
       "<Figure size 1200x700 with 2 Axes>"
      ]
     },
     "metadata": {},
     "output_type": "display_data"
    }
   ],
   "source": [
    "test_outputs = classifier(tefeat)\n",
    "_ignore_, predicted = torch.max(test_outputs, 1)\n",
    "correct = (predicted == tetarget).float()\n",
    "accuracy = correct.mean().item()\n",
    "# print(f'Test Accuracy: {accuracy*100:.3f}%')\n",
    "\n",
    "# Plot the loss\n",
    "plt.figure(figsize = (12, 7))\n",
    "\n",
    "plt.subplot(2, 1, 1)\n",
    "plt.plot(trlosses, linewidth = 3)\n",
    "# plt.plot(runner.losses, linewidth = 3)\n",
    "plt.ylabel(\"Losses in Training\")\n",
    "plt.annotate(f'Learning Rate: {learning_rate} \\nBatch Size: {batch_size}', xy=(0.95, 0.85), xycoords='axes fraction', va='top', ha='right')\n",
    "sns.despine()\n",
    "\n",
    "plt.subplot(2, 1, 2)\n",
    "plt.plot(valosses, linewidth = 3, color = 'gold')\n",
    "# plt.plot(runner.accuracies, linewidth = 3, color = 'gold')\n",
    "plt.ylabel(\"Training Accuracy (Validation)\")\n",
    "plt.annotate(f'Accuracy: {accuracy*100:.3f}%', xy=(0.95, 0.20), xycoords='axes fraction', va='top', ha='right')\n",
    "sns.despine()"
   ]
  },
  {
   "cell_type": "code",
   "execution_count": null,
   "metadata": {},
   "outputs": [],
   "source": []
  }
 ],
 "metadata": {
  "kernelspec": {
   "display_name": "Phys417",
   "language": "python",
   "name": "python3"
  },
  "language_info": {
   "codemirror_mode": {
    "name": "ipython",
    "version": 3
   },
   "file_extension": ".py",
   "mimetype": "text/x-python",
   "name": "python",
   "nbconvert_exporter": "python",
   "pygments_lexer": "ipython3",
   "version": "3.11.9"
  }
 },
 "nbformat": 4,
 "nbformat_minor": 2
}
