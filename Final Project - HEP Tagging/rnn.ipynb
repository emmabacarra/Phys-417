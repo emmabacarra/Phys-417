{
 "cells": [
  {
   "cell_type": "markdown",
   "metadata": {},
   "source": [
    "#### importing packages"
   ]
  },
  {
   "cell_type": "code",
   "execution_count": 1,
   "metadata": {},
   "outputs": [
    {
     "data": {
      "text/plain": [
       "'c:\\\\Users\\\\ebaca\\\\Desktop\\\\Phys 417\\\\Final Project - HEP Tagging'"
      ]
     },
     "execution_count": 1,
     "metadata": {},
     "output_type": "execute_result"
    }
   ],
   "source": [
    "import os\n",
    "import sys\n",
    "os.getcwd()"
   ]
  },
  {
   "cell_type": "code",
   "execution_count": 2,
   "metadata": {},
   "outputs": [],
   "source": [
    "# importing libraries & making torch.device object for GPU\n",
    "\n",
    "# neural network packages\n",
    "import torch\n",
    "import torch.nn as nn\n",
    "import torch.optim as optim\n",
    "import torch.nn.utils.rnn as rnn_utils\n",
    "\n",
    "from torch import Tensor\n",
    "# from torch.nn import Transformer\n",
    "from torch.utils.data import Dataset, DataLoader, WeightedRandomSampler\n",
    "from torch.nn.utils.rnn import pad_sequence\n",
    "\n",
    "# data packages\n",
    "import numpy as np\n",
    "import math\n",
    "import pandas as pd\n",
    "# import sklearn.preprocessing as prep\n",
    "# from sklearn.model_selection import train_test_split\n",
    "from sklearn.utils import shuffle\n",
    "from sklearn.metrics import confusion_matrix, precision_score, recall_score, f1_score\n",
    "\n",
    "# visual packages\n",
    "import matplotlib.pyplot as plt\n",
    "%matplotlib inline\n",
    "import seaborn as sns\n",
    "import tqdm\n",
    "import warnings\n",
    "\n",
    "# Create a torch.device object to tell pytorch where to store your tensors: cpu or gpu\n",
    "DEVICE = torch.device('cuda' if torch.cuda.is_available() else 'cpu')"
   ]
  },
  {
   "cell_type": "markdown",
   "metadata": {},
   "source": [
    "#### analyzing jet distributions"
   ]
  },
  {
   "cell_type": "code",
   "execution_count": 3,
   "metadata": {},
   "outputs": [
    {
     "data": {
      "text/plain": [
       "{(1, 0, 0, 0, 0): ['Gluon', 3942],\n",
       " (0, 1, 0, 0, 0): ['Light Quark', 3835],\n",
       " (0, 0, 1, 0, 0): ['W Boson', 4150],\n",
       " (0, 0, 0, 1, 0): ['Z Boson', 4053],\n",
       " (0, 0, 0, 0, 1): ['Top Quark', 4020]}"
      ]
     },
     "metadata": {},
     "output_type": "display_data"
    }
   ],
   "source": [
    "onehots_dict = {\n",
    "    (1, 0, 0, 0, 0): ['Gluon', 0],\n",
    "    (0, 1, 0, 0, 0): ['Light Quark', 0],\n",
    "    (0, 0, 1, 0, 0): ['W Boson', 0],\n",
    "    (0, 0, 0, 1, 0): ['Z Boson', 0],\n",
    "    (0, 0, 0, 0, 1): ['Top Quark', 0]\n",
    "}\n",
    "# print(list(onehots.values()))\n",
    "\n",
    "files = shuffle([os.path.join('../../PHYS417_Project/data/'+ f) for f in os.listdir('../../PHYS417_Project/data')])\n",
    "\n",
    "for i, f in enumerate(files):\n",
    "    # with np.load('../../PHYS417_Project/data/' + f) as data_load:\n",
    "    with np.load(f) as data_load:\n",
    "        y = data_load['y']\n",
    "\n",
    "        if tuple(y) in onehots_dict:\n",
    "            onehots_dict[tuple(y)][1] += 1\n",
    "\n",
    "display(onehots_dict)"
   ]
  },
  {
   "cell_type": "markdown",
   "metadata": {},
   "source": [
    "#### building architectures"
   ]
  },
  {
   "cell_type": "code",
   "execution_count": 4,
   "metadata": {},
   "outputs": [],
   "source": [
    "# Define your model architecture\n",
    "class JetClassifier(nn.Module):\n",
    "    def __init__(self, input_size, hidden_size, num_layers, num_classes, dropout_prob=0.5):\n",
    "        super(JetClassifier, self).__init__()\n",
    "        self.hidden_size = hidden_size\n",
    "        self.num_layers = num_layers\n",
    "        self.lstm = nn.LSTM(input_size, hidden_size, num_layers, batch_first=True)\n",
    "        self.fc = nn.Linear(hidden_size, num_classes)\n",
    "        self.dropout = nn.Dropout(dropout_prob)\n",
    "    \n",
    "    def forward(self, x):\n",
    "        h0 = torch.zeros(self.num_layers, x.size(0), self.hidden_size).to(x.device)\n",
    "        c0 = torch.zeros(self.num_layers, x.size(0), self.hidden_size).to(x.device)\n",
    "        \n",
    "        # Forward propagate LSTM\n",
    "        out, _ = self.lstm(x, (h0, c0))  # out: tensor of shape (batch_size, seq_length, hidden_size)\n",
    "\n",
    "        # out = self.dropout(out[:, -1, :])\n",
    "        \n",
    "        # Decode the hidden state of the last time step\n",
    "        out = self.fc(out[:, -1, :])\n",
    "        return out\n",
    "\n",
    "# custom PyTorch dataset (for DataLoader)\n",
    "class JetDataset(Dataset):\n",
    "    def __init__(self, files):\n",
    "        self.files = files\n",
    "\n",
    "    def __len__(self):\n",
    "        return len(self.files)\n",
    "\n",
    "    def __getitem__(self, idx):\n",
    "        file_path = self.files[idx]\n",
    "        with np.load(file_path) as data_load:\n",
    "            x_load = torch.tensor(data_load['x'], dtype=torch.float32)\n",
    "            y_load = torch.tensor(data_load['y'], dtype=torch.float32)\n",
    "        return x_load, y_load\n",
    "\n",
    "# the collate function lets the model handle variable-length sequences\n",
    "def collate_fn(batch):\n",
    "    # sorting batch in descending order of # of constituents\n",
    "    # batch.sort(key=lambda x: x[0].size(0), reverse=True)   # option to sort by sequence length\n",
    "    inputs, labels = zip(*batch)\n",
    "    # adding padding to the sequences\n",
    "    inputs_padded = pad_sequence(inputs, batch_first=True, padding_value=0)\n",
    "    # labels_padded = pad_sequence(labels, batch_first=True, padding_value=0)\n",
    "    labels = torch.stack(labels)  # Ensure labels are stacked without padding\n",
    "    return inputs_padded, labels\n",
    "\n",
    "# function to extract numpy arrays from tensors\n",
    "extractor = lambda x: x.cpu().detach().numpy()"
   ]
  },
  {
   "cell_type": "markdown",
   "metadata": {},
   "source": [
    "#### preparing data"
   ]
  },
  {
   "cell_type": "code",
   "execution_count": 8,
   "metadata": {},
   "outputs": [
    {
     "name": "stdout",
     "output_type": "stream",
     "text": [
      "First 70% of files: 14000 \n",
      "Last 30% of files: 6000\n",
      "14000 Training Files  + 6000 Testing Files  =  20000 Total Files\n",
      "\n",
      "First 5 training files: ['../../PHYS417_Project/data/event_0165052.npz', '../../PHYS417_Project/data/event_0133623.npz', '../../PHYS417_Project/data/event_0464926.npz', '../../PHYS417_Project/data/event_0701446.npz', '../../PHYS417_Project/data/event_0846361.npz'] \n",
      "First 5 testing files: ['../../PHYS417_Project/data/event_0161314.npz', '../../PHYS417_Project/data/event_0530506.npz', '../../PHYS417_Project/data/event_0621990.npz', '../../PHYS417_Project/data/event_0635608.npz', '../../PHYS417_Project/data/event_0602021.npz']\n",
      "\n",
      "TrSet (event 0): torch.Size([62, 5]) \n",
      "tensor([[0.1297, -0.0000, 0.0000, 0.1292, 0.0070]]) \n",
      "Onehot vector: tensor([1., 0., 0., 0., 0.])\n",
      "\n",
      "14000 6000\n"
     ]
    }
   ],
   "source": [
    "'''Extracting Files ----------------------------------------------------------'''\n",
    "\n",
    "print(f'First 70% of files: {len(files[:int(0.7*len(files))])} \\nLast 30% of files: {len(files[int(0.7*len(files)):])}')\n",
    "\n",
    "\n",
    "\n",
    "'''Splitting Files ----------------------------------------------------------'''\n",
    "\n",
    "# splitting into training/testing sets\n",
    "train_files = files[:int(0.7*len(files))]\n",
    "test_files = files[int(0.7*len(files)):]\n",
    "\n",
    "print(f\"{len(train_files)} Training Files  + {len(test_files)} Testing Files  =  {len(files)} Total Files\\n\")\n",
    "print(f'First 5 training files: {train_files[:5]} \\nFirst 5 testing files: {test_files[:5]}\\n')\n",
    "\n",
    "\n",
    "\n",
    "'''Converting to Dataset Objects --------------------------------------------------------'''\n",
    "\n",
    "train_dataset = JetDataset(train_files)\n",
    "test_dataset = JetDataset(test_files)\n",
    "\n",
    "# train_dataset[event n][input/label][constituent n, property n]\n",
    "print(f'TrSet (event 0): {train_dataset[0][0].shape} \\n{train_dataset[0][0][:1]} \\nOnehot vector: {train_dataset[0][1]}\\n')\n",
    "# print(f'TeSet First const. (event 0): \\n{test_dataset[0][0][:1]} \\nOnehot vector: {test_dataset[0][1]}\\n')\n",
    "\n",
    "\n",
    "\n",
    "'''Creating DataLoaders/Applying Collate Fn (Padding) --------------------------------------------------------'''\n",
    "\n",
    "class_weights = [1 / count for count in [value[1] for value in onehots_dict.values()]]\n",
    "\n",
    "trweights = [\n",
    "    class_weights[torch.argmax(tag).item()] \n",
    "        for tag in [train_dataset[i][1] \n",
    "                for i in range(len(train_dataset))]\n",
    "]\n",
    "trsampler = WeightedRandomSampler(trweights, len(train_dataset), replacement=True)\n",
    "\n",
    "teweights = [\n",
    "    class_weights[torch.argmax(tag).item()] \n",
    "        for tag in [test_dataset[i][1] \n",
    "                for i in range(len(test_dataset))]\n",
    "]\n",
    "tesampler = WeightedRandomSampler(teweights, len(test_dataset), replacement=True)\n",
    "\n",
    "print(len(trweights), len(teweights))\n",
    "\n",
    "# make datasets into DataLoader objects and apply collate_fn\n",
    "train_loader = DataLoader(train_dataset, batch_size=13, shuffle=False, collate_fn=collate_fn, sampler=trsampler)\n",
    "test_loader = DataLoader(test_dataset, batch_size=13, shuffle=False, collate_fn=collate_fn, sampler=tesampler)\n",
    "\n",
    "\n",
    "# # inspecting how padding went in collate_fn\n",
    "# # loader[input or label][batch n][event e][constituent n, property n]\n",
    "# n=0\n",
    "# for nbatch_x, nbatch_y in train_loader: # loops through n batches or loader[input/label][batch n]\n",
    "#     # inputs = array containing each events' data['x'] in the batch\n",
    "#     # labels = array containing each events' data['y'] in the batch\n",
    "#     print(f'\\n --------------------------------------- [Batch {n}] --------------------------------------- \\n')\n",
    "#     print(f'Input shape: {nbatch_x.shape}, Label shape: {nbatch_y.shape}\\n') # general shape of the batch\n",
    "\n",
    "#     e=0\n",
    "#     # printing first 5 events in the batch\n",
    "#     for (properties, tag) in zip(nbatch_x[:2], nbatch_y[:2]):\n",
    "#         # printing the first 5 constituents/properties\n",
    "#         print(f'--Event {n}.{e}--',\n",
    "#               f'\\n{extractor(properties[:1])} \\n{extractor(properties[-1:])}, \\nTag: {extractor(tag)}\\n')\n",
    "#         e+=1\n",
    "    \n",
    "#     # to stop after some number of events\n",
    "#     n+=1\n",
    "#     if n == 1: \n",
    "#         break"
   ]
  },
  {
   "cell_type": "markdown",
   "metadata": {},
   "source": [
    "#### initializing & training"
   ]
  },
  {
   "cell_type": "code",
   "execution_count": 9,
   "metadata": {},
   "outputs": [],
   "source": [
    "'''\n",
    "Initializing Model & Hyperparameters ----------------------------------------------------------\n",
    "'''\n",
    "\n",
    "# Initialize the model\n",
    "input_size = 5  # Number of features for each constituent\n",
    "hidden_size = 128\n",
    "num_layers = 3\n",
    "num_classes = 5  # Number of categories for jet classification\n",
    "\n",
    "model = JetClassifier(input_size, hidden_size, num_layers, num_classes).to(DEVICE)\n",
    "\n",
    "# Define loss function and optimizer\n",
    "criterion = nn.BCEWithLogitsLoss().to(DEVICE)  # Binary Cross Entropy Loss for multi-label classification\n",
    "# criterion = nn.CrossEntropyLoss(weight=torch.tensor(class_weights).to(DEVICE)) # includes softmax layer\n",
    "optimizer = torch.optim.Adam(model.parameters(), lr=0.001)\n",
    "scheduler = torch.optim.lr_scheduler.StepLR(optimizer, step_size=5, gamma=0.1)"
   ]
  },
  {
   "cell_type": "code",
   "execution_count": 10,
   "metadata": {},
   "outputs": [
    {
     "name": "stderr",
     "output_type": "stream",
     "text": [
      "100%|██████████| 20/20 [04:50<00:00, 14.50s/it]\n"
     ]
    }
   ],
   "source": [
    "''' \n",
    "Training -------------------------------------------------------------------\n",
    "'''\n",
    "# [batch size][max sequence length][input size/number of features]\n",
    "\n",
    "num_epochs = 20\n",
    "losses = []\n",
    "\n",
    "for epoch in tqdm.trange(num_epochs):\n",
    "    model.train()\n",
    "    \n",
    "    loss_ct = 0\n",
    "    for events, tags in train_loader:\n",
    "        events, onehots = events.to(DEVICE), tags.to(DEVICE)\n",
    "        # tags = torch.argmax(onehots, dim=1) # Convert one-hot encoded labels to single integer labels\n",
    "\n",
    "        optimizer.zero_grad()\n",
    "        outputs = model(events)\n",
    "\n",
    "        # loss = criterion(outputs, tags)\n",
    "        loss = criterion(outputs, onehots)\n",
    "        loss.backward()\n",
    "        optimizer.step()\n",
    "\n",
    "        loss_ct += loss.item()\n",
    "\n",
    "    scheduler.step()\n",
    "\n",
    "    avg_loss = loss_ct / len(train_loader)\n",
    "    losses.append(avg_loss)\n",
    "\n",
    "    # print(f'Epoch [{epoch+1}/{num_epochs}], Loss: {avg_loss:.4f}')\n",
    "    # print(f'Inputs: {events.shape}  \\nOnehot: {extractor(onehots[:1][0])}  ArgMax Index: {extractor(onehots[:1].argmax(dim=1))}')\n",
    "    softmax = nn.Softmax(dim=1)\n",
    "    probabilities = softmax(outputs)\n",
    "    # print(f'Outputs: {extractor(outputs[:1][0])}')\n",
    "    # print(f'Probabilities: {extractor(probabilities[:1][0])}')\n",
    "    # print('\\n')"
   ]
  },
  {
   "cell_type": "code",
   "execution_count": 11,
   "metadata": {},
   "outputs": [
    {
     "data": {
      "text/plain": [
       "Text(0.5, 1.0, 'Training Losses')"
      ]
     },
     "execution_count": 11,
     "metadata": {},
     "output_type": "execute_result"
    },
    {
     "data": {
      "image/png": "[encoded data removed]",
      "text/plain": [
       "<Figure size 640x480 with 1 Axes>"
      ]
     },
     "metadata": {},
     "output_type": "display_data"
    }
   ],
   "source": [
    "plt.figure()\n",
    "plt.plot(range(1, num_epochs+1), losses)\n",
    "plt.xlabel('Epochs')\n",
    "plt.ylabel('Loss')\n",
    "plt.title('Training Losses')"
   ]
  },
  {
   "cell_type": "markdown",
   "metadata": {},
   "source": [
    "#### testing"
   ]
  },
  {
   "cell_type": "code",
   "execution_count": 12,
   "metadata": {},
   "outputs": [
    {
     "data": {
      "text/plain": [
       "{(1, 0, 0, 0, 0): ['Gluon', 3942],\n",
       " (0, 1, 0, 0, 0): ['Light Quark', 3835],\n",
       " (0, 0, 1, 0, 0): ['W Boson', 4150],\n",
       " (0, 0, 0, 1, 0): ['Z Boson', 4053],\n",
       " (0, 0, 0, 0, 1): ['Top Quark', 4020]}"
      ]
     },
     "metadata": {},
     "output_type": "display_data"
    },
    {
     "name": "stdout",
     "output_type": "stream",
     "text": [
      "[Sample Overview] \n",
      "14000 Training Files \n",
      "6000 Testing Files \n",
      "20000 Total Files \n",
      "\n",
      "Accuracy: 0.6143\n",
      "Confusion Matrix:\n",
      "[[802 134  52  38 176]\n",
      " [209 717 156  54  87]\n",
      " [ 60  84 739 309   8]\n",
      " [ 80  66 464 519  47]\n",
      " [ 96   7  71 116 909]]\n",
      "Precision: 0.6198\n",
      "Recall: 0.6143\n",
      "F1 Score: 0.6142\n"
     ]
    }
   ],
   "source": [
    "''' \n",
    "Evaluation -------------------------------------------------------------------\n",
    "\n",
    "[batch size][max sequence length][input size/number of features]\n",
    "'''\n",
    "display(onehots_dict)\n",
    "print(f'[Sample Overview] \\n{len(train_files)} Training Files \\n{len(test_files)} Testing Files \\n{len(files)} Total Files \\n')\n",
    "\n",
    "def evaluate_model(model, test_loader):\n",
    "    warnings.filterwarnings('ignore')\n",
    "\n",
    "    model.eval()\n",
    "    correct = 0\n",
    "    total = 0\n",
    "    label_list = []\n",
    "    prediction_list = []\n",
    "    with torch.no_grad():\n",
    "        for sequences, labels in test_loader:\n",
    "            labels = torch.argmax(labels, dim=1).to(DEVICE)\n",
    "            outputs = model(sequences.to(DEVICE))\n",
    "            predicted = torch.argmax(outputs, dim=1).to(DEVICE)\n",
    "\n",
    "            # print(predicted)\n",
    "            # print(labels, '\\n')\n",
    "            label_list.extend(labels.cpu().numpy())\n",
    "            prediction_list.extend(predicted.cpu().numpy())\n",
    "\n",
    "            total += labels.size(0)\n",
    "            correct += (predicted == labels).sum().item()\n",
    "\n",
    "    accuracy = correct / total\n",
    "    print(f\"Accuracy: {accuracy:.4f}\")\n",
    "\n",
    "    cm = confusion_matrix(label_list, prediction_list)\n",
    "    precision = precision_score(label_list, prediction_list, average='weighted')\n",
    "    recall = recall_score(label_list, prediction_list, average='weighted')\n",
    "    f1 = f1_score(label_list, prediction_list, average='weighted')\n",
    "    \n",
    "    print(f'Confusion Matrix:\\n{cm}')\n",
    "    print(f'Precision: {precision:.4f}')\n",
    "    print(f'Recall: {recall:.4f}')\n",
    "    print(f'F1 Score: {f1:.4f}')\n",
    "\n",
    "evaluate_model(model, test_loader)"
   ]
  }
 ],
 "metadata": {
  "kernelspec": {
   "display_name": "Phys417",
   "language": "python",
   "name": "python3"
  },
  "language_info": {
   "codemirror_mode": {
    "name": "ipython",
    "version": 3
   },
   "file_extension": ".py",
   "mimetype": "text/x-python",
   "name": "python",
   "nbconvert_exporter": "python",
   "pygments_lexer": "ipython3",
   "version": "3.11.9"
  }
 },
 "nbformat": 4,
 "nbformat_minor": 2
}
