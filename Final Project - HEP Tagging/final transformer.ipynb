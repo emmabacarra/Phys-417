{
 "cells": [
  {
   "cell_type": "code",
   "execution_count": 50,
   "metadata": {
    "ExecuteTime": {
     "end_time": "2024-05-23T05:21:29.961127200Z",
     "start_time": "2024-05-23T05:21:29.888372800Z"
    }
   },
   "outputs": [
    {
     "data": {
      "text/plain": [
       "'C:\\\\Users\\\\speed\\\\Documents\\\\PHYS417_Project\\\\emma'"
      ]
     },
     "execution_count": 50,
     "metadata": {},
     "output_type": "execute_result"
    }
   ],
   "source": [
    "import os\n",
    "import sys\n",
    "os.getcwd()"
   ]
  },
  {
   "cell_type": "code",
   "execution_count": 51,
   "metadata": {
    "ExecuteTime": {
     "end_time": "2024-05-23T05:21:29.981422400Z",
     "start_time": "2024-05-23T05:21:29.968880400Z"
    }
   },
   "outputs": [],
   "source": [
    "# importing libraries & making torch.device object for GPU\n",
    "\n",
    "# neural network packages\n",
    "import torch\n",
    "import torch.nn as nn\n",
    "from torch.nn import Transformer\n",
    "from torch import Tensor\n",
    "from torch.utils.data import DataLoader\n",
    "sys.path.append('..\\\\..\\\\PHYS417_Project')\n",
    "from nnrunner import NetRunner\n",
    "\n",
    "# data packages\n",
    "import numpy as np\n",
    "import math\n",
    "import pandas as pd\n",
    "import sklearn.preprocessing as prep\n",
    "from sklearn.model_selection import train_test_split\n",
    "from sklearn.utils import shuffle\n",
    "from sklearn.metrics import confusion_matrix\n",
    "import fndict as fd\n",
    "import random\n",
    "from concurrent.futures import ThreadPoolExecutor\n",
    "from sklearn.preprocessing import StandardScaler\n",
    "\n",
    "# visual packages\n",
    "import matplotlib.pyplot as plt\n",
    "%matplotlib inline\n",
    "import seaborn as sns\n",
    "import tqdm.notebook as tq\n",
    "from tqdm.notebook import trange\n",
    "import warnings\n",
    "\n",
    "# Create a torch.device object to tell pytorch where to store your tensors: cpu or gpu\n",
    "DEVICE = torch.device('cuda' if torch.cuda.is_available() else 'cpu')"
   ]
  },
  {
   "cell_type": "markdown",
   "metadata": {},
   "source": [
    "<b>About the Dataset</b>\n",
    "\n",
    "<u>Tag</u>: the type of the original particles involved in the collision\n",
    "\n",
    "<u>Jet</u>: collection of particles that hadronized (decayed) together into a stable particle\n",
    "\n",
    "Per jet, variable number of constituents (rows) with 5 features (columns):\n",
    "1. $p_T$: transverse momentum as a fraction of the jet total\n",
    "2. $\\eta$: angular coordinate relative to jet center\n",
    "3. $\\phi$: angular coordinate relative to jet center\n",
    "4. $E$: energy from constituent\n",
    "5. $\\Delta R = \\sqrt{\\eta^2 + \\phi^2}$"
   ]
  },
  {
   "cell_type": "markdown",
   "metadata": {},
   "source": [
    "#### Preparing the Data"
   ]
  },
  {
   "cell_type": "markdown",
   "metadata": {},
   "source": [
    "Normalization: Numerical data should be on a similar scale, typically between 0 and 1. This will help the model learn more efficiently. Use scaling such as Min-Max Scaling or Z-score normalization techniques\n",
    "\n",
    "Imbalance: If some target classes have significantly more instances than others, the model may become biased towards the majority class. Try over-sampling the minority class or under-sampling the majority class to address this.\n",
    "\n",
    "Sequence Length Uniformity: Since the sequences have varying lengths, padding or truncation will help to standardize them. This will ensure that the transformer model can handle the input effectively."
   ]
  },
  {
   "cell_type": "code",
   "execution_count": 52,
   "metadata": {
    "ExecuteTime": {
     "end_time": "2024-05-23T05:21:50.359954100Z",
     "start_time": "2024-05-23T05:21:29.978409900Z"
    },
    "collapsed": false
   },
   "outputs": [
    {
     "data": {
      "application/vnd.jupyter.widget-view+json": {
       "model_id": "e6a8b0cad1b844eeb0035274b478c486",
       "version_major": 2,
       "version_minor": 0
      },
      "text/plain": [
       "Merging .npz files:   0%|          | 0/20000 [00:00<?, ?it/s]"
      ]
     },
     "metadata": {},
     "output_type": "display_data"
    },
    {
     "name": "stderr",
     "output_type": "stream",
     "text": [
      "C:\\Users\\speed\\AppData\\Local\\Temp\\ipykernel_11128\\76731365.py:32: UserWarning: To copy construct from a tensor, it is recommended to use sourceTensor.clone().detach() or sourceTensor.clone().detach().requires_grad_(True), rather than torch.tensor(sourceTensor).\n",
      "  y_list.append(torch.tensor(torch.from_numpy(y), dtype=torch.float32).to(DEVICE))\n",
      "C:\\Users\\speed\\AppData\\Local\\Temp\\ipykernel_11128\\76731365.py:48: UserWarning: To copy construct from a tensor, it is recommended to use sourceTensor.clone().detach() or sourceTensor.clone().detach().requires_grad_(True), rather than torch.tensor(sourceTensor).\n",
      "  scaled_x_list.append(torch.tensor(torch.from_numpy(scaled_x[start_idx:end_idx]), dtype=torch.float32).to(DEVICE))\n"
     ]
    }
   ],
   "source": [
    "## loading data\n",
    "def load_npz(file_path):\n",
    "    data = np.load(file_path)\n",
    "    x = data['x']\n",
    "    y = data['y']\n",
    "    data.close()\n",
    "    return x, y\n",
    "\n",
    "def pad_and_merge_npz_files(input_dir, output_file='./output.npz', num_files=100000, save=True):\n",
    "    # Initialize lists to store x and y arrays\n",
    "    x_list = []\n",
    "    y_list = []\n",
    "\n",
    "    # Get list of .npz files in the input directory, shuffle them\n",
    "    npz_files = [os.path.join(input_dir, file_name) for file_name in os.listdir(input_dir) if file_name.endswith(\".npz\")]\n",
    "    random.shuffle(npz_files)\n",
    "\n",
    "    # Limit the number of files to process\n",
    "    npz_files = npz_files[:num_files]\n",
    "\n",
    "    # Create a ThreadPoolExecutor with a maximum of 4 threads\n",
    "    with ThreadPoolExecutor(max_workers=12) as executor:\n",
    "        # Submit tasks to the executor for parallel execution\n",
    "        futures = [executor.submit(load_npz, file_path) for file_path in npz_files]\n",
    "\n",
    "        # Display progress bar\n",
    "        with tq.tqdm(total=len(npz_files), desc=\"Merging .npz files\") as pbar:\n",
    "            # Iterate over completed futures to retrieve results\n",
    "            for future in futures:\n",
    "                x, y = future.result()\n",
    "                x_list.append(x)\n",
    "                y_list.append(torch.tensor(torch.from_numpy(y), dtype=torch.float32).to(DEVICE))\n",
    "                pbar.update(1)  # Update progress bar\n",
    "\n",
    "    # Stack x matrices\n",
    "    stacked_x = np.vstack(x_list)\n",
    "\n",
    "    # Scale the data using StandardScaler\n",
    "    scaler = StandardScaler()\n",
    "    scaled_x = scaler.fit_transform(stacked_x)\n",
    "\n",
    "    # Split normalized_x back into matrices\n",
    "    num_matrices = len(x_list)\n",
    "    start_idx = 0\n",
    "    scaled_x_list = []\n",
    "    for x_matrix in x_list:\n",
    "        end_idx = start_idx + x_matrix.shape[0]\n",
    "        scaled_x_list.append(torch.tensor(torch.from_numpy(scaled_x[start_idx:end_idx]), dtype=torch.float32).to(DEVICE))\n",
    "        start_idx = end_idx\n",
    "\n",
    "    return scaled_x_list, y_list\n",
    "\n",
    "# Get the directory of the current script\n",
    "current_dir = os.getcwd()\n",
    "# Construct the path to the data folder\n",
    "data_dir = os.path.join(current_dir, '..', 'data')\n",
    "# Normalize the path (optional, but makes it more robust)\n",
    "data_dir = os.path.normpath(data_dir)\n",
    "\n",
    "\n",
    "x, y = pad_and_merge_npz_files(data_dir, save=False, num_files=20000)"
   ]
  },
  {
   "cell_type": "code",
   "execution_count": 53,
   "metadata": {
    "ExecuteTime": {
     "end_time": "2024-05-23T05:21:50.403645200Z",
     "start_time": "2024-05-23T05:21:50.378003100Z"
    }
   },
   "outputs": [
    {
     "name": "stdout",
     "output_type": "stream",
     "text": [
      "--Establishing Training Features/Targets--\n",
      "features (x): 20000 \n",
      "targets (y): 20000\n",
      "\n",
      " --Splitting Data--\n",
      "Training set: 12000 12000\n",
      "Validation set: 4000 4000\n",
      "Testing set: 4000 4000\n"
     ]
    },
    {
     "data": {
      "text/plain": [
       "' DATA PRE-SCALED, NO NEED TO NORMALIZE '"
      ]
     },
     "execution_count": 53,
     "metadata": {},
     "output_type": "execute_result"
    }
   ],
   "source": [
    "# ---- STEP 1: establishing training features (x) and training targets (y) data -----------------------\n",
    "print(\"--Establishing Training Features/Targets--\")\n",
    "\n",
    "print(\"features (x):\", len(x), \"\\ntargets (y):\", len(y))\n",
    "\n",
    "\n",
    "# ---- STEP 2: splitting data into training, validation, and testing sets -----------------------------\n",
    "print(\"\\n --Splitting Data--\")\n",
    "\n",
    "# shuffling for random selection, setting seed to 0 for reproduceability below\n",
    "x, y = shuffle(x, y, random_state=0) \n",
    "\n",
    "# splitting data into training and testing sets\n",
    "# the testing data is used to evaluate the model's performance after training for predictions on unseen data\n",
    "# test_size = 0.2 means 20% of the data is for testing and 80% for training\n",
    "trfeat, tefeat, trtarget, tetarget = train_test_split(x, y, test_size=0.2, random_state=0)\n",
    "\n",
    "# splitting data again to get validation set\n",
    "# the validation data is used to visualize/evaluate performance during training to help with tuning \n",
    "# 0.25 x 0.8 = 0.2\n",
    "trfeat, vafeat, trtarget, vatarget = train_test_split(trfeat, trtarget, test_size=0.25, random_state=0) \n",
    "\n",
    "#for later\n",
    "te2feat = tefeat\n",
    "te2target = tetarget\n",
    "print(\"Training set:\", len(trfeat), len(trtarget))\n",
    "print(\"Validation set:\", len(vafeat), len(vatarget))\n",
    "print(\"Testing set:\", len(tefeat), len(tetarget))\n",
    "\n",
    "\n",
    "''' DATA PRE-SCALED, NO NEED TO NORMALIZE '''"
   ]
  },
  {
   "cell_type": "markdown",
   "metadata": {},
   "source": [
    "#### Build Model & Initialize"
   ]
  },
  {
   "cell_type": "code",
   "execution_count": 54,
   "metadata": {
    "ExecuteTime": {
     "end_time": "2024-05-23T05:21:50.419825400Z",
     "start_time": "2024-05-23T05:21:50.408638400Z"
    },
    "collapsed": false
   },
   "outputs": [
    {
     "name": "stderr",
     "output_type": "stream",
     "text": [
      "C:\\Users\\speed\\anaconda3\\envs\\phys417\\Lib\\site-packages\\torch\\nn\\modules\\transformer.py:286: UserWarning: enable_nested_tensor is True, but self.use_nested_tensor is False because encoder_layer.self_attn.batch_first was not True(use batch_first for better inference performance)\n",
      "  warnings.warn(f\"enable_nested_tensor is True, but self.use_nested_tensor is False because {why_not_sparsity_fast_path}\")\n"
     ]
    }
   ],
   "source": [
    "class ParticleClassifier(nn.Module):\n",
    "    def __init__(self, input_dim, num_classes, num_layers=2, num_heads=5, hidden_dim=256, hdim2=100, dropout=0.1):\n",
    "        super(ParticleClassifier, self).__init__()\n",
    "        \n",
    "        # record dimensions and classes\n",
    "        self.input_dim = input_dim\n",
    "        self.num_classes = num_classes\n",
    "        \n",
    "        # Transformer Encoder\n",
    "        self.encoder_layer = nn.TransformerEncoderLayer(d_model=input_dim, nhead=num_heads, dim_feedforward=hidden_dim, dropout=dropout)\n",
    "        self.transformer_encoder = nn.TransformerEncoder(self.encoder_layer, num_layers=num_layers)\n",
    "        \n",
    "        # Fully connected layer for classification\n",
    "        self.fc = nn.Linear(input_dim, hdim2)\n",
    "        self.fc2 = nn.Linear(hdim2, num_classes)\n",
    "\n",
    "        # Activation function\n",
    "        self.relu = nn.ReLU()\n",
    "        \n",
    "    def forward(self, x):\n",
    "        # x shape: (batch_size, seq_len, input_dim)\n",
    "        x = x.permute(1, 0, 2)  # Change shape to (seq_len, batch_size, input_dim) for transformer\n",
    "        x = self.transformer_encoder(x)\n",
    "        x = x.mean(dim=0)  # Average pooling over sequence length\n",
    "        x = self.relu(self.fc(x))\n",
    "        output = self.fc2(x)\n",
    "        output_probs = nn.functional.softmax(output, dim=1) # output probabilities with softmax\n",
    "        return output_probs\n",
    "\n",
    "# Hyperparameters\n",
    "input_dim = 5  # Number of features per data point\n",
    "num_classes = 5  # Number of output classes\n",
    "\n",
    "# Initialize the model\n",
    "classifier = ParticleClassifier(input_dim=input_dim, num_classes=num_classes, hdim2=100, num_heads=5, num_layers = 2).to(DEVICE)\n"
   ]
  },
  {
   "cell_type": "markdown",
   "metadata": {},
   "source": [
    "#### Train Model"
   ]
  },
  {
   "cell_type": "markdown",
   "metadata": {},
   "source": [
    "<b>Hyperparameters</b>\n",
    "\n",
    "Fair warning: you might get an \"out of memory\" error when training. If that happens, try reducing the batch size\n",
    "\n",
    "betas are hyperparameters that control the exponential moving averages\n",
    "\n",
    "eps is a small constant added to improve numerical stability by preventing division by zero"
   ]
  },
  {
   "cell_type": "code",
   "execution_count": 55,
   "metadata": {
    "ExecuteTime": {
     "end_time": "2024-05-23T05:21:50.424731Z",
     "start_time": "2024-05-23T05:21:50.423221400Z"
    }
   },
   "outputs": [],
   "source": [
    "epochs = 25\n",
    "batch_size = 500\n",
    "learning_rate = 0.001\n",
    "# learning_rate = 0.002\n",
    "betas = (0.9, 0.98)\n",
    "eps = 1e-8"
   ]
  },
  {
   "cell_type": "code",
   "execution_count": 56,
   "metadata": {
    "ExecuteTime": {
     "end_time": "2024-05-23T05:21:50.477834Z",
     "start_time": "2024-05-23T05:21:50.427736700Z"
    },
    "collapsed": false
   },
   "outputs": [
    {
     "name": "stdout",
     "output_type": "stream",
     "text": [
      "12000\n",
      "24\n",
      "12000\n",
      "24\n"
     ]
    }
   ],
   "source": [
    "def split_into_sublists(original_list, sublist_size=150):\n",
    "    # Determine the number of full sublists\n",
    "    print(len(original_list))\n",
    "    num_full_sublists = len(original_list) // sublist_size\n",
    "    print(num_full_sublists)\n",
    "    \n",
    "    # Create the full sublists\n",
    "    sublists = [original_list[i*sublist_size:(i+1)*sublist_size] for i in range(num_full_sublists)]\n",
    "    \n",
    "    # ignore the residual list with remaining items  \n",
    "    return sublists\n",
    "\n",
    "# Split the training data into sublists\n",
    "bfeatlist = split_into_sublists(trfeat, batch_size)\n",
    "btarglist = split_into_sublists(trtarget,batch_size)"
   ]
  },
  {
   "cell_type": "markdown",
   "metadata": {},
   "source": [
    "<b>Begin Training with Training Data</b>"
   ]
  },
  {
   "cell_type": "code",
   "execution_count": 57,
   "metadata": {
    "ExecuteTime": {
     "end_time": "2024-05-23T05:48:33.015660400Z",
     "start_time": "2024-05-23T05:21:50.451755800Z"
    }
   },
   "outputs": [
    {
     "name": "stdout",
     "output_type": "stream",
     "text": [
      "Learning Rate: 0.001 \n",
      "Batch Size: 500 \n",
      "Epochs: 25 \n"
     ]
    },
    {
     "data": {
      "application/vnd.jupyter.widget-view+json": {
       "model_id": "18b39fd70a164b88b6b27a2f68769d74",
       "version_major": 2,
       "version_minor": 0
      },
      "text/plain": [
       "  0%|          | 0/25 [00:00<?, ?it/s]"
      ]
     },
     "metadata": {},
     "output_type": "display_data"
    },
    {
     "data": {
      "application/vnd.jupyter.widget-view+json": {
       "model_id": "72e9e8722d16455397daa760a64151c5",
       "version_major": 2,
       "version_minor": 0
      },
      "text/plain": [
       "  0%|          | 0/24 [00:00<?, ?it/s]"
      ]
     },
     "metadata": {},
     "output_type": "display_data"
    },
    {
     "data": {
      "application/vnd.jupyter.widget-view+json": {
       "model_id": "029680d71a3d4082bc13a2a7aed1846f",
       "version_major": 2,
       "version_minor": 0
      },
      "text/plain": [
       "  0%|          | 0/24 [00:00<?, ?it/s]"
      ]
     },
     "metadata": {},
     "output_type": "display_data"
    },
    {
     "data": {
      "application/vnd.jupyter.widget-view+json": {
       "model_id": "cd63e4af316b41958faef69bf74a68ec",
       "version_major": 2,
       "version_minor": 0
      },
      "text/plain": [
       "  0%|          | 0/24 [00:00<?, ?it/s]"
      ]
     },
     "metadata": {},
     "output_type": "display_data"
    },
    {
     "data": {
      "application/vnd.jupyter.widget-view+json": {
       "model_id": "4bca7367b829494c94ab5f71410a5d1e",
       "version_major": 2,
       "version_minor": 0
      },
      "text/plain": [
       "  0%|          | 0/24 [00:00<?, ?it/s]"
      ]
     },
     "metadata": {},
     "output_type": "display_data"
    },
    {
     "data": {
      "application/vnd.jupyter.widget-view+json": {
       "model_id": "dfe9e22324c345d7a0ccb113fb2bbeba",
       "version_major": 2,
       "version_minor": 0
      },
      "text/plain": [
       "  0%|          | 0/24 [00:00<?, ?it/s]"
      ]
     },
     "metadata": {},
     "output_type": "display_data"
    },
    {
     "data": {
      "application/vnd.jupyter.widget-view+json": {
       "model_id": "c2ebdbb7192a472e94c30f1ca0632c53",
       "version_major": 2,
       "version_minor": 0
      },
      "text/plain": [
       "  0%|          | 0/24 [00:00<?, ?it/s]"
      ]
     },
     "metadata": {},
     "output_type": "display_data"
    },
    {
     "data": {
      "application/vnd.jupyter.widget-view+json": {
       "model_id": "8b9181d5aa3247cf8df0dfe79d234b9f",
       "version_major": 2,
       "version_minor": 0
      },
      "text/plain": [
       "  0%|          | 0/24 [00:00<?, ?it/s]"
      ]
     },
     "metadata": {},
     "output_type": "display_data"
    },
    {
     "data": {
      "application/vnd.jupyter.widget-view+json": {
       "model_id": "3ffd53cb90e84ffe89805650e5fac605",
       "version_major": 2,
       "version_minor": 0
      },
      "text/plain": [
       "  0%|          | 0/24 [00:00<?, ?it/s]"
      ]
     },
     "metadata": {},
     "output_type": "display_data"
    },
    {
     "data": {
      "application/vnd.jupyter.widget-view+json": {
       "model_id": "2851d4749303404bb5fe9d9b605de309",
       "version_major": 2,
       "version_minor": 0
      },
      "text/plain": [
       "  0%|          | 0/24 [00:00<?, ?it/s]"
      ]
     },
     "metadata": {},
     "output_type": "display_data"
    },
    {
     "data": {
      "application/vnd.jupyter.widget-view+json": {
       "model_id": "314e881986b44f72a2c3f63fc0f61203",
       "version_major": 2,
       "version_minor": 0
      },
      "text/plain": [
       "  0%|          | 0/24 [00:00<?, ?it/s]"
      ]
     },
     "metadata": {},
     "output_type": "display_data"
    },
    {
     "data": {
      "application/vnd.jupyter.widget-view+json": {
       "model_id": "b042e18e82ba4628871c9fad44080cb9",
       "version_major": 2,
       "version_minor": 0
      },
      "text/plain": [
       "  0%|          | 0/24 [00:00<?, ?it/s]"
      ]
     },
     "metadata": {},
     "output_type": "display_data"
    },
    {
     "data": {
      "application/vnd.jupyter.widget-view+json": {
       "model_id": "c9b73677f93d4103a00ed218e91a8d35",
       "version_major": 2,
       "version_minor": 0
      },
      "text/plain": [
       "  0%|          | 0/24 [00:00<?, ?it/s]"
      ]
     },
     "metadata": {},
     "output_type": "display_data"
    },
    {
     "data": {
      "application/vnd.jupyter.widget-view+json": {
       "model_id": "349b10a9200b42a58437987e7c28d3b4",
       "version_major": 2,
       "version_minor": 0
      },
      "text/plain": [
       "  0%|          | 0/24 [00:00<?, ?it/s]"
      ]
     },
     "metadata": {},
     "output_type": "display_data"
    },
    {
     "data": {
      "application/vnd.jupyter.widget-view+json": {
       "model_id": "b341a18b46a6446bb3cf2ae5ed26238e",
       "version_major": 2,
       "version_minor": 0
      },
      "text/plain": [
       "  0%|          | 0/24 [00:00<?, ?it/s]"
      ]
     },
     "metadata": {},
     "output_type": "display_data"
    },
    {
     "data": {
      "application/vnd.jupyter.widget-view+json": {
       "model_id": "429b8580f1bf4d249794dee7f32f1093",
       "version_major": 2,
       "version_minor": 0
      },
      "text/plain": [
       "  0%|          | 0/24 [00:00<?, ?it/s]"
      ]
     },
     "metadata": {},
     "output_type": "display_data"
    },
    {
     "data": {
      "application/vnd.jupyter.widget-view+json": {
       "model_id": "e919fb8792b94111a75132a60dff8ff0",
       "version_major": 2,
       "version_minor": 0
      },
      "text/plain": [
       "  0%|          | 0/24 [00:00<?, ?it/s]"
      ]
     },
     "metadata": {},
     "output_type": "display_data"
    },
    {
     "data": {
      "application/vnd.jupyter.widget-view+json": {
       "model_id": "81cd8dd8b688410db629a289739bd749",
       "version_major": 2,
       "version_minor": 0
      },
      "text/plain": [
       "  0%|          | 0/24 [00:00<?, ?it/s]"
      ]
     },
     "metadata": {},
     "output_type": "display_data"
    },
    {
     "data": {
      "application/vnd.jupyter.widget-view+json": {
       "model_id": "b225a98ebd844e739eaea5d7b46d72d8",
       "version_major": 2,
       "version_minor": 0
      },
      "text/plain": [
       "  0%|          | 0/24 [00:00<?, ?it/s]"
      ]
     },
     "metadata": {},
     "output_type": "display_data"
    },
    {
     "data": {
      "application/vnd.jupyter.widget-view+json": {
       "model_id": "fea62185d80f4acdab3bfc4f1350a8dc",
       "version_major": 2,
       "version_minor": 0
      },
      "text/plain": [
       "  0%|          | 0/24 [00:00<?, ?it/s]"
      ]
     },
     "metadata": {},
     "output_type": "display_data"
    },
    {
     "data": {
      "application/vnd.jupyter.widget-view+json": {
       "model_id": "d3db7938d0ff4fe291045258bb0b057b",
       "version_major": 2,
       "version_minor": 0
      },
      "text/plain": [
       "  0%|          | 0/24 [00:00<?, ?it/s]"
      ]
     },
     "metadata": {},
     "output_type": "display_data"
    },
    {
     "data": {
      "application/vnd.jupyter.widget-view+json": {
       "model_id": "95648caa23ef4d73bdcfc613486b43c0",
       "version_major": 2,
       "version_minor": 0
      },
      "text/plain": [
       "  0%|          | 0/24 [00:00<?, ?it/s]"
      ]
     },
     "metadata": {},
     "output_type": "display_data"
    },
    {
     "data": {
      "application/vnd.jupyter.widget-view+json": {
       "model_id": "0505f76dba0340509d5cb5fae81b7b1a",
       "version_major": 2,
       "version_minor": 0
      },
      "text/plain": [
       "  0%|          | 0/24 [00:00<?, ?it/s]"
      ]
     },
     "metadata": {},
     "output_type": "display_data"
    },
    {
     "data": {
      "application/vnd.jupyter.widget-view+json": {
       "model_id": "2eaa7ae759af4a918eb50bd45fa572b5",
       "version_major": 2,
       "version_minor": 0
      },
      "text/plain": [
       "  0%|          | 0/24 [00:00<?, ?it/s]"
      ]
     },
     "metadata": {},
     "output_type": "display_data"
    },
    {
     "data": {
      "application/vnd.jupyter.widget-view+json": {
       "model_id": "d54ed383c7034f73bd594ef01786c014",
       "version_major": 2,
       "version_minor": 0
      },
      "text/plain": [
       "  0%|          | 0/24 [00:00<?, ?it/s]"
      ]
     },
     "metadata": {},
     "output_type": "display_data"
    },
    {
     "data": {
      "application/vnd.jupyter.widget-view+json": {
       "model_id": "38c26e7d265347719e44ef5325f85740",
       "version_major": 2,
       "version_minor": 0
      },
      "text/plain": [
       "  0%|          | 0/24 [00:00<?, ?it/s]"
      ]
     },
     "metadata": {},
     "output_type": "display_data"
    },
    {
     "name": "stdout",
     "output_type": "stream",
     "text": [
      "Total Train Time: 26m 42.6s\n"
     ]
    }
   ],
   "source": [
    "from timeit import default_timer as timer\n",
    "\n",
    "# Loss function and optimizer\n",
    "loss_fn = torch.nn.CrossEntropyLoss()\n",
    "optimizer = torch.optim.Adam(classifier.parameters(), lr=learning_rate, betas=betas, eps=eps)\n",
    "\n",
    "# Training Loop ---------------------------------------------------------------------------------------\n",
    "\n",
    "trlosses = []\n",
    "valosses = []\n",
    "\n",
    "\n",
    "print(f'Learning Rate: {learning_rate} \\nBatch Size: {batch_size} \\nEpochs: {epochs} \\n')\n",
    "with warnings.catch_warnings(): # booo warnings\n",
    "    # put the classifier in training mode\n",
    "    classifier.train()\n",
    "    warnings.simplefilter(\"ignore\")\n",
    "    \n",
    "    start_time = timer()\n",
    "    for epoch in tq.trange(epochs):\n",
    "        # per epoch, iterate through the batches of training data\n",
    "        for batchnum in tq.trange(len(btarglist)):\n",
    "            optimizer.zero_grad()\n",
    "            tpreds = []\n",
    "            ttargs = []\n",
    "            bfeats = bfeatlist[batchnum]\n",
    "            btargs = btarglist[batchnum]\n",
    "\n",
    "            # identifying the features and targets for the current batch\n",
    "            for item, target in zip(bfeats, btargs):\n",
    "                tpreds.append(classifier(item.unsqueeze(dim=0)))\n",
    "                ttargs.append(target)\n",
    "            \n",
    "            train_outputs = torch.stack(tpreds, dim=0).squeeze(dim=1)\n",
    "            targets = torch.stack(ttargs, dim=0)\n",
    "            loss = loss_fn(train_outputs, targets)\n",
    "            \n",
    "            # track losses & repeat for next epoch!\n",
    "            trlosses.append(loss.item())\n",
    "            \n",
    "            loss.backward()\n",
    "            \n",
    "            optimizer.step()\n",
    "\n",
    "        # Compute Validation Accuracy ----------------------------------------------------------------------\n",
    "        \n",
    "        with torch.no_grad(): # Telling PyTorch we aren't passing inputs to network for training purpose\n",
    "            vpreds = []\n",
    "            v_targs = []\n",
    "\n",
    "            # identifying the features and targets\n",
    "            for item, target in zip(vafeat, vatarget):\n",
    "                vpreds.append(classifier(item.unsqueeze(dim=0)))\n",
    "                v_targs.append(target)\n",
    "        \n",
    "            v_outputs = torch.stack(vpreds, dim=0).squeeze(dim=1)\n",
    "            v_targets = torch.stack(v_targs, dim=0)\n",
    "            \n",
    "            # track correct values\n",
    "            correct = (torch.argmax(v_outputs, dim=1) == \n",
    "                    torch.argmax(v_targets, dim=1)).type(torch.FloatTensor)\n",
    "            \n",
    "            valosses.append(correct.mean())\n",
    "    end_time = timer()\n",
    "    time = end_time - start_time\n",
    "    print(f\"Total Train Time: {'{:.0f}m {:.1f}s'.format(*divmod(time, 60))}\")"
   ]
  },
  {
   "cell_type": "markdown",
   "metadata": {
    "collapsed": false
   },
   "source": [
    "#### Assessing Training\n",
    "**Overall accuracy**"
   ]
  },
  {
   "cell_type": "code",
   "execution_count": 58,
   "metadata": {
    "ExecuteTime": {
     "end_time": "2024-05-23T05:48:39.170288600Z",
     "start_time": "2024-05-23T05:48:33.020173300Z"
    },
    "collapsed": false
   },
   "outputs": [
    {
     "name": "stdout",
     "output_type": "stream",
     "text": [
      "model accuracy:  0.6427500247955322\n",
      "[[522 136  51  53  79]\n",
      " [114 538 107  90  16]\n",
      " [ 16  29 553 273  37]\n",
      " [ 23  24 101 365  73]\n",
      " [134  57   5  11 593]]\n"
     ]
    }
   ],
   "source": [
    "tepreds = []\n",
    "tetargs = []\n",
    "with torch.no_grad(): # Telling PyTorch we aren't passing inputs to network for training purpose\n",
    "    # identifying the features and targets\n",
    "    for item, target in zip(tefeat, tetarget):\n",
    "        tepreds.append(classifier(item.unsqueeze(dim=0)))\n",
    "        tetargs.append(target)\n",
    "\n",
    "# track correct values and calculate accuracy\n",
    "te_outputs = torch.stack(tepreds, dim=0).squeeze(dim=1)\n",
    "te_targets = torch.stack(tetargs, dim=0)\n",
    "correct = (torch.argmax(te_outputs, dim=1) == \n",
    "        torch.argmax(te_targets, dim=1)).type(torch.FloatTensor)\n",
    "accuracy = correct.mean().item()\n",
    "\n",
    "te_outputs = te_outputs.cpu().numpy()\n",
    "te_targets = te_targets.cpu().numpy()\n",
    "pred = np.argmax(te_outputs, axis=1)\n",
    "true = np.argmax(te_targets, axis=1)\n",
    "cmat = confusion_matrix(pred,true)\n",
    "print('model accuracy: ', accuracy)\n",
    "print(cmat)"
   ]
  },
  {
   "cell_type": "markdown",
   "metadata": {
    "collapsed": false
   },
   "source": [
    "• Per jet, single classification:\n",
    "• Gluon [0]\n",
    "• Light quark[1]\n",
    "• W boson[2]\n",
    "• Z boson[3]\n",
    "• Top quark[4]"
   ]
  },
  {
   "cell_type": "markdown",
   "metadata": {},
   "source": [
    "<b>Visualizing Performance</b>"
   ]
  },
  {
   "cell_type": "code",
   "execution_count": 59,
   "metadata": {
    "ExecuteTime": {
     "end_time": "2024-05-23T05:48:39.437568900Z",
     "start_time": "2024-05-23T05:48:39.174269100Z"
    }
   },
   "outputs": [
    {
     "name": "stdout",
     "output_type": "stream",
     "text": [
      "Test Accuracy: 64.275%\n"
     ]
    },
    {
     "data": {
      "image/png": "[encoded data removed]",
      "text/plain": [
       "<Figure size 1200x700 with 2 Axes>"
      ]
     },
     "metadata": {},
     "output_type": "display_data"
    }
   ],
   "source": [
    "print(f'Test Accuracy: {accuracy*100:.3f}%')\n",
    "\n",
    "# Plot the loss\n",
    "plt.figure(figsize = (12, 7))\n",
    "\n",
    "plt.subplot(2, 1, 1)\n",
    "plt.plot(trlosses, linewidth = 3)\n",
    "# plt.plot(runner.losses, linewidth = 3)\n",
    "plt.ylabel(\"Losses in Training\")\n",
    "plt.annotate(f'Learning Rate: {learning_rate} \\nBatch Size: {batch_size} \\nLowest Loss: {min(trlosses):.3f}', \n",
    "             xy=(0.95, 0.85), xycoords='axes fraction', va='top', ha='right')\n",
    "sns.despine()\n",
    "\n",
    "plt.subplot(2, 1, 2)\n",
    "plt.plot(valosses, linewidth = 3, color = 'gold')\n",
    "# plt.plot(runner.accuracies, linewidth = 3, color = 'gold')\n",
    "plt.ylabel(\"Training Accuracy (Validation)\")\n",
    "plt.annotate(f'Accuracy: {accuracy*100:.3f}%', xy=(0.95, 0.20), xycoords='axes fraction', va='top', ha='right')\n",
    "sns.despine()"
   ]
  },
  {
   "cell_type": "markdown",
   "metadata": {
    "collapsed": false
   },
   "source": [
    "**Overall accuracy**"
   ]
  },
  {
   "cell_type": "code",
   "execution_count": 60,
   "metadata": {
    "ExecuteTime": {
     "end_time": "2024-05-23T05:48:39.450133100Z",
     "start_time": "2024-05-23T05:48:39.439574200Z"
    },
    "collapsed": false
   },
   "outputs": [],
   "source": [
    "torch.save(classifier, './MODEL5_22_5.pth')"
   ]
  },
  {
   "cell_type": "markdown",
   "metadata": {
    "collapsed": false
   },
   "source": [
    "previous models:"
   ]
  },
  {
   "cell_type": "code",
   "execution_count": 61,
   "metadata": {
    "ExecuteTime": {
     "end_time": "2024-05-23T05:48:46.315529300Z",
     "start_time": "2024-05-23T05:48:39.454138100Z"
    },
    "collapsed": false
   },
   "outputs": [
    {
     "name": "stdout",
     "output_type": "stream",
     "text": [
      "model accuracy:  0.6420000195503235\n",
      "[[519 147  45  59  81]\n",
      " [118 525 124  83  12]\n",
      " [ 16  34 548 260  35]\n",
      " [ 21  23  95 385  79]\n",
      " [135  55   5   5 591]]\n"
     ]
    }
   ],
   "source": [
    "classifier1 = torch.load('./MODEL5_21.pth')\n",
    "tepreds = []\n",
    "tetargs = []\n",
    "with torch.no_grad(): # Telling PyTorch we aren't passing inputs to network for training purpose\n",
    "    for item, target in zip(tefeat, tetarget):\n",
    "        tepreds.append(classifier(item.unsqueeze(dim=0)))\n",
    "        tetargs.append(target)\n",
    "\n",
    "te_outputs = torch.stack(tepreds, dim=0).squeeze(dim=1)\n",
    "te_targets = torch.stack(tetargs, dim=0)\n",
    "correct = (torch.argmax(te_outputs, dim=1) == \n",
    "        torch.argmax(te_targets, dim=1)).type(torch.FloatTensor)\n",
    "accuracy = correct.mean().item()\n",
    "\n",
    "te_outputs = te_outputs.cpu().numpy()\n",
    "te_targets = te_targets.cpu().numpy()\n",
    "pred = np.argmax(te_outputs, axis=1)\n",
    "true = np.argmax(te_targets, axis=1)\n",
    "cmat = confusion_matrix(pred,true)\n",
    "print('model accuracy: ', accuracy)\n",
    "print(cmat)"
   ]
  },
  {
   "cell_type": "code",
   "execution_count": 62,
   "metadata": {
    "ExecuteTime": {
     "end_time": "2024-05-23T05:48:52.907137900Z",
     "start_time": "2024-05-23T05:48:46.319528300Z"
    },
    "collapsed": false
   },
   "outputs": [
    {
     "name": "stdout",
     "output_type": "stream",
     "text": [
      "model accuracy:  0.6432499885559082\n",
      "[[516 144  49  53  79]\n",
      " [122 532 115  82  12]\n",
      " [ 13  31 540 255  35]\n",
      " [ 20  23 108 396  83]\n",
      " [138  54   5   6 589]]\n"
     ]
    }
   ],
   "source": [
    "classifier1 = torch.load('./MODEL5_22_2.pth')\n",
    "tepreds = []\n",
    "tetargs = []\n",
    "with torch.no_grad(): # Telling PyTorch we aren't passing inputs to network for training purpose\n",
    "    for item, target in zip(tefeat, tetarget):\n",
    "        tepreds.append(classifier(item.unsqueeze(dim=0)))\n",
    "        tetargs.append(target)\n",
    "\n",
    "te_outputs = torch.stack(tepreds, dim=0).squeeze(dim=1)\n",
    "te_targets = torch.stack(tetargs, dim=0)\n",
    "correct = (torch.argmax(te_outputs, dim=1) == \n",
    "        torch.argmax(te_targets, dim=1)).type(torch.FloatTensor)\n",
    "accuracy = correct.mean().item()\n",
    "\n",
    "te_outputs = te_outputs.cpu().numpy()\n",
    "te_targets = te_targets.cpu().numpy()\n",
    "pred = np.argmax(te_outputs, axis=1)\n",
    "true = np.argmax(te_targets, axis=1)\n",
    "cmat = confusion_matrix(pred,true)\n",
    "print('model accuracy: ', accuracy)\n",
    "print(cmat)"
   ]
  },
  {
   "cell_type": "code",
   "execution_count": 63,
   "metadata": {
    "ExecuteTime": {
     "end_time": "2024-05-23T05:48:59.561305700Z",
     "start_time": "2024-05-23T05:48:52.911140400Z"
    },
    "collapsed": false
   },
   "outputs": [
    {
     "name": "stdout",
     "output_type": "stream",
     "text": [
      "model accuracy:  0.6420000195503235\n",
      "[[521 138  46  57  74]\n",
      " [115 527 121  84  17]\n",
      " [ 13  35 545 264  37]\n",
      " [ 23  28 100 382  77]\n",
      " [137  56   5   5 593]]\n"
     ]
    }
   ],
   "source": [
    "classifier1 = torch.load('./MODEL5_22_3.pth')\n",
    "tepreds = []\n",
    "tetargs = []\n",
    "with torch.no_grad(): # Telling PyTorch we aren't passing inputs to network for training purpose\n",
    "    for item, target in zip(tefeat, tetarget):\n",
    "        tepreds.append(classifier(item.unsqueeze(dim=0)))\n",
    "        tetargs.append(target)\n",
    "\n",
    "te_outputs = torch.stack(tepreds, dim=0).squeeze(dim=1)\n",
    "te_targets = torch.stack(tetargs, dim=0)\n",
    "correct = (torch.argmax(te_outputs, dim=1) == \n",
    "        torch.argmax(te_targets, dim=1)).type(torch.FloatTensor)\n",
    "accuracy = correct.mean().item()\n",
    "\n",
    "te_outputs = te_outputs.cpu().numpy()\n",
    "te_targets = te_targets.cpu().numpy()\n",
    "pred = np.argmax(te_outputs, axis=1)\n",
    "true = np.argmax(te_targets, axis=1)\n",
    "cmat = confusion_matrix(pred,true)\n",
    "print('model accuracy: ', accuracy)\n",
    "print(cmat)"
   ]
  },
  {
   "cell_type": "code",
   "execution_count": 64,
   "metadata": {
    "ExecuteTime": {
     "end_time": "2024-05-23T05:49:05.628405800Z",
     "start_time": "2024-05-23T05:48:59.566878100Z"
    },
    "collapsed": false
   },
   "outputs": [
    {
     "name": "stdout",
     "output_type": "stream",
     "text": [
      "model accuracy:  0.6380000114440918\n",
      "[[514 146  49  54  82]\n",
      " [121 521 112  89  11]\n",
      " [ 16  34 550 263  40]\n",
      " [ 21  29 100 375  73]\n",
      " [137  54   6  11 592]]\n"
     ]
    }
   ],
   "source": [
    "classifier1 = torch.load('./MODEL5_22_5.pth')\n",
    "tepreds = []\n",
    "tetargs = []\n",
    "with torch.no_grad(): # Telling PyTorch we aren't passing inputs to network for training purpose\n",
    "    for item, target in zip(tefeat, tetarget):\n",
    "        tepreds.append(classifier(item.unsqueeze(dim=0)))\n",
    "        tetargs.append(target)\n",
    "\n",
    "te_outputs = torch.stack(tepreds, dim=0).squeeze(dim=1)\n",
    "te_targets = torch.stack(tetargs, dim=0)\n",
    "correct = (torch.argmax(te_outputs, dim=1) == \n",
    "        torch.argmax(te_targets, dim=1)).type(torch.FloatTensor)\n",
    "accuracy = correct.mean().item()\n",
    "\n",
    "te_outputs = te_outputs.cpu().numpy()\n",
    "te_targets = te_targets.cpu().numpy()\n",
    "pred = np.argmax(te_outputs, axis=1)\n",
    "true = np.argmax(te_targets, axis=1)\n",
    "cmat = confusion_matrix(pred,true)\n",
    "print('model accuracy: ', accuracy)\n",
    "print(cmat)"
   ]
  },
  {
   "cell_type": "code",
   "execution_count": 64,
   "metadata": {
    "ExecuteTime": {
     "end_time": "2024-05-23T05:49:05.634752900Z",
     "start_time": "2024-05-23T05:49:05.631079400Z"
    },
    "collapsed": false
   },
   "outputs": [],
   "source": []
  }
 ],
 "metadata": {
  "kernelspec": {
   "display_name": "Phys417",
   "language": "python",
   "name": "python3"
  },
  "language_info": {
   "codemirror_mode": {
    "name": "ipython",
    "version": 3
   },
   "file_extension": ".py",
   "mimetype": "text/x-python",
   "name": "python",
   "nbconvert_exporter": "python",
   "pygments_lexer": "ipython3",
   "version": "3.11.9"
  }
 },
 "nbformat": 4,
 "nbformat_minor": 2
}
