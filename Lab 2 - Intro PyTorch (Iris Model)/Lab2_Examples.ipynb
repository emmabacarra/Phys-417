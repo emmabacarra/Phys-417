{
 "cells": [
  {
   "cell_type": "markdown",
   "id": "765ede05",
   "metadata": {},
   "source": [
    "# <span style='color:blue'> LAB2: </span>\n",
    "# <span style='color:blue'> PYTORCH INTRODUCTION </span>"
   ]
  },
  {
   "cell_type": "markdown",
   "id": "2001cc17",
   "metadata": {},
   "source": [
    "# <span style='color:red'> Part 1: Python as Deep Learning Platform -----------------------------------------------------</span>"
   ]
  },
  {
   "cell_type": "markdown",
   "id": "cf890327",
   "metadata": {},
   "source": [
    "### 1.1 - Verify PyTorch Installation"
   ]
  },
  {
   "cell_type": "code",
   "execution_count": 1,
   "id": "b094209d",
   "metadata": {},
   "outputs": [],
   "source": [
    "# Import necessary packages\n",
    "\n",
    "import numpy as np\n",
    "import torch"
   ]
  },
  {
   "cell_type": "code",
   "execution_count": 2,
   "id": "1899d484",
   "metadata": {},
   "outputs": [
    {
     "name": "stdout",
     "output_type": "stream",
     "text": [
      "tensor([[0.7560, 0.8688, 0.2156],\n",
      "        [0.3465, 0.7244, 0.5154],\n",
      "        [0.3566, 0.5991, 0.4860],\n",
      "        [0.1151, 0.8717, 0.6082],\n",
      "        [0.8969, 0.4408, 0.1913]])\n"
     ]
    }
   ],
   "source": [
    "# Define a random torch tensor of shape (5, 3)\n",
    "\n",
    "x = torch.rand(5, 3)\n",
    "print(x)"
   ]
  },
  {
   "cell_type": "code",
   "execution_count": 3,
   "id": "65df02d3",
   "metadata": {},
   "outputs": [
    {
     "data": {
      "text/plain": [
       "False"
      ]
     },
     "execution_count": 3,
     "metadata": {},
     "output_type": "execute_result"
    }
   ],
   "source": [
    "# This lines ensures PyTorch can communicate with your GPU for hardware acceleration\n",
    "\n",
    "torch.cuda.is_available()"
   ]
  },
  {
   "cell_type": "markdown",
   "id": "08eb68cf",
   "metadata": {},
   "source": [
    "# <span style='color:red'> Part 2: Neural Network Workflow in PyTorch (Simple Linear Regression) ----------</span>"
   ]
  },
  {
   "cell_type": "markdown",
   "id": "045ebaa5",
   "metadata": {},
   "source": [
    "### 2.1 - Prepare Data"
   ]
  },
  {
   "cell_type": "code",
   "execution_count": 4,
   "id": "8598fbc8",
   "metadata": {},
   "outputs": [],
   "source": [
    "%matplotlib inline\n",
    "\n",
    "import matplotlib.pyplot as plt"
   ]
  },
  {
   "cell_type": "code",
   "execution_count": 5,
   "id": "502ab4d9",
   "metadata": {},
   "outputs": [],
   "source": [
    "# Generate training data for x and y\n",
    "\n",
    "x_train = np.arange(11, dtype = np.float32)\n",
    "x_train = x_train[:, np.newaxis] # [:, np.nexaxis] re-orient the x_train so that it's in vertical orientation\n",
    "\n",
    "y_train = (2 * x_train) + 1"
   ]
  },
  {
   "cell_type": "code",
   "execution_count": 6,
   "id": "49889902",
   "metadata": {},
   "outputs": [
    {
     "name": "stdout",
     "output_type": "stream",
     "text": [
      "[[ 0.]\n",
      " [ 1.]\n",
      " [ 2.]\n",
      " [ 3.]\n",
      " [ 4.]\n",
      " [ 5.]\n",
      " [ 6.]\n",
      " [ 7.]\n",
      " [ 8.]\n",
      " [ 9.]\n",
      " [10.]]\n"
     ]
    }
   ],
   "source": [
    "print(x_train)"
   ]
  },
  {
   "cell_type": "code",
   "execution_count": 7,
   "id": "9bd1c45d",
   "metadata": {},
   "outputs": [
    {
     "name": "stdout",
     "output_type": "stream",
     "text": [
      "[[ 1.]\n",
      " [ 3.]\n",
      " [ 5.]\n",
      " [ 7.]\n",
      " [ 9.]\n",
      " [11.]\n",
      " [13.]\n",
      " [15.]\n",
      " [17.]\n",
      " [19.]\n",
      " [21.]]\n"
     ]
    }
   ],
   "source": [
    "print(y_train)"
   ]
  },
  {
   "cell_type": "markdown",
   "id": "23562000",
   "metadata": {},
   "source": [
    "### 2.2 - Define Model"
   ]
  },
  {
   "cell_type": "code",
   "execution_count": 8,
   "id": "48999749",
   "metadata": {},
   "outputs": [],
   "source": [
    "# A neural network model in PyTorch is a class \n",
    "\n",
    "class linearRegression(torch.nn.Module):\n",
    "    \n",
    "    def __init__(self, input_dim, output_dim): # Initializes the model with a linear layer with input/output dimension\n",
    "        \n",
    "        super(linearRegression, self).__init__() # This line allows us to use attributes/methods from torch.nn.Module\n",
    "        \n",
    "        self.linear = torch.nn.Linear(input_dim, output_dim) # Define a single linear layer with input/output dimensions\n",
    "\n",
    "    def forward(self, x): # This function describes the information flow within the network from input -> output\n",
    "        \n",
    "        out = self.linear(x) # We only have a single layer so the network output = output of the linear layer \n",
    "        \n",
    "        return out"
   ]
  },
  {
   "cell_type": "markdown",
   "id": "60513711",
   "metadata": {},
   "source": [
    "### 2.3 - Select Hyperparameters"
   ]
  },
  {
   "cell_type": "code",
   "execution_count": 9,
   "id": "7df28b25",
   "metadata": {},
   "outputs": [],
   "source": [
    "# Initialize our neural network model with input and output dimensions\n",
    "model = linearRegression(input_dim = 1, output_dim = 1)\n",
    "\n",
    "# Define the learning rate and epoch (# of iterations)\n",
    "learning_rate = 0.01 \n",
    "epochs = 100\n",
    "\n",
    "# Define loss function and optimizer\n",
    "loss_func = torch.nn.MSELoss() \n",
    "optimizer = torch.optim.SGD(model.parameters(), lr = learning_rate)\n",
    "\n",
    "# Run this line if you have PyTorch GPU version\n",
    "if torch.cuda.is_available():\n",
    "    model.cuda()"
   ]
  },
  {
   "cell_type": "markdown",
   "id": "0c76eeb7",
   "metadata": {},
   "source": [
    "### 2.4 - Identify Tracked Values"
   ]
  },
  {
   "cell_type": "code",
   "execution_count": 10,
   "id": "c4be6f16",
   "metadata": {},
   "outputs": [],
   "source": [
    "# Define a list or numpy array placeholder to keep track of our training loss\n",
    "\n",
    "train_loss_list = []"
   ]
  },
  {
   "cell_type": "markdown",
   "id": "7c1403d8",
   "metadata": {},
   "source": [
    "### 2.5 - Train Model"
   ]
  },
  {
   "cell_type": "code",
   "execution_count": 11,
   "id": "4c12bb57",
   "metadata": {
    "scrolled": true
   },
   "outputs": [
    {
     "name": "stdout",
     "output_type": "stream",
     "text": [
      "epoch 0, loss 110.89277648925781\n",
      "epoch 1, loss 9.05661392211914\n",
      "epoch 2, loss 0.750034511089325\n",
      "epoch 3, loss 0.07236632704734802\n",
      "epoch 4, loss 0.01696621999144554\n",
      "epoch 5, loss 0.012323882430791855\n",
      "epoch 6, loss 0.011823064647614956\n",
      "epoch 7, loss 0.01166139543056488\n",
      "epoch 8, loss 0.011528734117746353\n",
      "epoch 9, loss 0.011399846524000168\n",
      "epoch 10, loss 0.011272510513663292\n",
      "epoch 11, loss 0.011146620847284794\n",
      "epoch 12, loss 0.011022141203284264\n",
      "epoch 13, loss 0.010899092070758343\n",
      "epoch 14, loss 0.010777361690998077\n",
      "epoch 15, loss 0.010657000355422497\n",
      "epoch 16, loss 0.010537994094192982\n",
      "epoch 17, loss 0.010420326143503189\n",
      "epoch 18, loss 0.010303952731192112\n",
      "epoch 19, loss 0.010188928805291653\n",
      "epoch 20, loss 0.010075081139802933\n",
      "epoch 21, loss 0.009962605312466621\n",
      "epoch 22, loss 0.009851345792412758\n",
      "epoch 23, loss 0.00974134262651205\n",
      "epoch 24, loss 0.009632526896893978\n",
      "epoch 25, loss 0.009524977765977383\n",
      "epoch 26, loss 0.009418626315891743\n",
      "epoch 27, loss 0.009313467890024185\n",
      "epoch 28, loss 0.009209456853568554\n",
      "epoch 29, loss 0.009106629528105259\n",
      "epoch 30, loss 0.009004919789731503\n",
      "epoch 31, loss 0.008904360234737396\n",
      "epoch 32, loss 0.008804933167994022\n",
      "epoch 33, loss 0.008706617169082165\n",
      "epoch 34, loss 0.008609396405518055\n",
      "epoch 35, loss 0.008513233624398708\n",
      "epoch 36, loss 0.008418161422014236\n",
      "epoch 37, loss 0.008324148133397102\n",
      "epoch 38, loss 0.008231211453676224\n",
      "epoch 39, loss 0.00813927873969078\n",
      "epoch 40, loss 0.008048399351537228\n",
      "epoch 41, loss 0.007958556525409222\n",
      "epoch 42, loss 0.007869659923017025\n",
      "epoch 43, loss 0.007781811058521271\n",
      "epoch 44, loss 0.0076948911882936954\n",
      "epoch 45, loss 0.007608989253640175\n",
      "epoch 46, loss 0.007524022366851568\n",
      "epoch 47, loss 0.007440006826072931\n",
      "epoch 48, loss 0.0073569174855947495\n",
      "epoch 49, loss 0.0072747753001749516\n",
      "epoch 50, loss 0.007193517871201038\n",
      "epoch 51, loss 0.007113207597285509\n",
      "epoch 52, loss 0.007033766712993383\n",
      "epoch 53, loss 0.006955199409276247\n",
      "epoch 54, loss 0.006877560634166002\n",
      "epoch 55, loss 0.006800739094614983\n",
      "epoch 56, loss 0.006724803242832422\n",
      "epoch 57, loss 0.006649720948189497\n",
      "epoch 58, loss 0.00657546054571867\n",
      "epoch 59, loss 0.006501997821033001\n",
      "epoch 60, loss 0.00642941752448678\n",
      "epoch 61, loss 0.006357604172080755\n",
      "epoch 62, loss 0.006286613643169403\n",
      "epoch 63, loss 0.006216427776962519\n",
      "epoch 64, loss 0.006147016771137714\n",
      "epoch 65, loss 0.006078348960727453\n",
      "epoch 66, loss 0.006010464858263731\n",
      "epoch 67, loss 0.005943359807133675\n",
      "epoch 68, loss 0.005876976530998945\n",
      "epoch 69, loss 0.005811354145407677\n",
      "epoch 70, loss 0.005746479611843824\n",
      "epoch 71, loss 0.0056822593323886395\n",
      "epoch 72, loss 0.005618812050670385\n",
      "epoch 73, loss 0.005556086078286171\n",
      "epoch 74, loss 0.005494050215929747\n",
      "epoch 75, loss 0.005432679783552885\n",
      "epoch 76, loss 0.005372023209929466\n",
      "epoch 77, loss 0.005312053021043539\n",
      "epoch 78, loss 0.005252718925476074\n",
      "epoch 79, loss 0.005194054450839758\n",
      "epoch 80, loss 0.005136075895279646\n",
      "epoch 81, loss 0.005078704096376896\n",
      "epoch 82, loss 0.005021989811211824\n",
      "epoch 83, loss 0.004965928383171558\n",
      "epoch 84, loss 0.004910461138933897\n",
      "epoch 85, loss 0.0048555899411439896\n",
      "epoch 86, loss 0.004801399540156126\n",
      "epoch 87, loss 0.004747797269374132\n",
      "epoch 88, loss 0.004694771487265825\n",
      "epoch 89, loss 0.004642322193831205\n",
      "epoch 90, loss 0.0045904903672635555\n",
      "epoch 91, loss 0.00453925970941782\n",
      "epoch 92, loss 0.004488550592213869\n",
      "epoch 93, loss 0.004438430070877075\n",
      "epoch 94, loss 0.004388835281133652\n",
      "epoch 95, loss 0.004339834675192833\n",
      "epoch 96, loss 0.004291372839361429\n",
      "epoch 97, loss 0.004243464674800634\n",
      "epoch 98, loss 0.004196032416075468\n",
      "epoch 99, loss 0.00414919201284647\n"
     ]
    }
   ],
   "source": [
    "# Convert our dataset (inputs and targets) into torch tensors\n",
    "\n",
    "if torch.cuda.is_available():\n",
    "    inputs = torch.from_numpy(x_train).cuda() # If using GPU version, transfer the dataset to GPU memory\n",
    "    targets = torch.from_numpy(y_train).cuda()\n",
    "else:\n",
    "    inputs = torch.from_numpy(x_train)\n",
    "    targets = torch.from_numpy(y_train)\n",
    "\n",
    "# TRAINING LOOP-------------------------------------------------------------------------\n",
    "\n",
    "for epoch in range(epochs): # For each epoch (i.e. single pass on the training dataset)\n",
    "\n",
    "    optimizer.zero_grad() # Empty the gradient buffer so each learning event per epoch is separate\n",
    "\n",
    "    outputs = model(inputs) # Forward pass the inputs through the network to produce outputs \n",
    "\n",
    "    loss = loss_func(outputs, targets) # Compute the loss via comparing the output with expected targets\n",
    "    \n",
    "    train_loss_list.append(loss.item()) # Save the loss value to train_loss_list we defined\n",
    "    \n",
    "    loss.backward() # Compute how much changes to be made to weights/biases\n",
    "\n",
    "    optimizer.step() # Update the weights/biases according to learning rate\n",
    "\n",
    "    print('epoch {}, loss {}'.format(epoch, loss.item()))"
   ]
  },
  {
   "cell_type": "markdown",
   "id": "4cd0258f",
   "metadata": {},
   "source": [
    "### 2.6 - Visualization and Evaluation"
   ]
  },
  {
   "cell_type": "code",
   "execution_count": 12,
   "id": "142f7a0c",
   "metadata": {},
   "outputs": [
    {
     "name": "stdout",
     "output_type": "stream",
     "text": [
      "[[ 1.1198236]\n",
      " [ 3.1025677]\n",
      " [ 5.085312 ]\n",
      " [ 7.068056 ]\n",
      " [ 9.0508   ]\n",
      " [11.033545 ]\n",
      " [13.016289 ]\n",
      " [14.999033 ]\n",
      " [16.981777 ]\n",
      " [18.964521 ]\n",
      " [20.947266 ]]\n",
      "a: [[1.9827442]] b: [1.1198236]\n"
     ]
    }
   ],
   "source": [
    "with torch.no_grad(): # Telling PyTorch we aren't passing inputs to the model for training purpose, which requires gradient\n",
    "    \n",
    "    if torch.cuda.is_available(): # If you are using GPU version\n",
    "        \n",
    "        # 1. Convert x_train (np.array) -> torch tensors with torch.from_numpy()\n",
    "        # 2. Transfer x_train to GPU using .cuda()\n",
    "        # 3. Feed forward x_train to model to obtain the output using model()\n",
    "        # 4. Since the model lives in GPU, we should bring back the model output to CPU with .cpu()\n",
    "        # 5. Finally convert the torch tensor to numpy with .numpy()\n",
    "        predicted = model(torch.from_numpy(x_train).cuda()).cpu().numpy() \n",
    "        \n",
    "    else:\n",
    "        \n",
    "        # With CPU version, steps 2,3,4 above is not needed\n",
    "        predicted = model(torch.from_numpy(x_train)).numpy()\n",
    "    \n",
    "    # Print the predicted outputs - i.e., y-values and weight and biases in the trained neural network\n",
    "    print(predicted) \n",
    "    print(\"a: \" + str(model.linear.weight.cpu().numpy()), \"b: \" + str(model.linear.bias.cpu().numpy()))"
   ]
  },
  {
   "cell_type": "code",
   "execution_count": 13,
   "id": "657c3809",
   "metadata": {},
   "outputs": [
    {
     "data": {
      "text/plain": [
       "Text(0, 0.5, 'y')"
      ]
     },
     "execution_count": 13,
     "metadata": {},
     "output_type": "execute_result"
    },
    {
     "data": {
      "image/png": "[encoded data removed]",
      "text/plain": [
       "<Figure size 1000x700 with 1 Axes>"
      ]
     },
     "metadata": {},
     "output_type": "display_data"
    }
   ],
   "source": [
    "# Plot the predicted-y (blue line) vs expected targets (black dots)\n",
    "\n",
    "plt.figure(figsize = (10, 7))\n",
    "\n",
    "plt.plot(predicted, '--', linewidth = 3)\n",
    "plt.plot(x_train, y_train, 'o', color = 'black', markersize = 10)\n",
    "plt.xlabel('x', fontsize = 50)\n",
    "plt.ylabel('y', fontsize = 50)"
   ]
  },
  {
   "cell_type": "markdown",
   "id": "1bd1b6a6",
   "metadata": {},
   "source": [
    "# <span style='color:red'> Part 3: Python Concepts for PyTorch ---------------------------------------------------------</span>"
   ]
  },
  {
   "cell_type": "markdown",
   "id": "1820e25a",
   "metadata": {},
   "source": [
    "### 3.1 - Python Classes"
   ]
  },
  {
   "cell_type": "code",
   "execution_count": null,
   "id": "51887a31",
   "metadata": {},
   "outputs": [],
   "source": [
    "class Pokemon():\n",
    "    def __init__(self, Name, Type, Health): # Define attributes for the Pokemon object\n",
    "        self.Name = Name\n",
    "        self.Type = Type \n",
    "        self.Health = Health\n",
    "        \n",
    "    # Define methods for the Pokemon object\n",
    "    \n",
    "    def whats_your_name(self): # Your method can directly use the attributes defined in __init__\n",
    "        print(\"My name is \" + self.Name + \"!\")\n",
    "\n",
    "    def attack(self):\n",
    "        print(\"Electric attack! Zap!!\")\n",
    "\n",
    "    def dodge(self):\n",
    "        print(\"Pikachu Dodge!\")\n",
    "\n",
    "    def evolve(self):\n",
    "        print(\"Evolving to Raichu!!\")"
   ]
  },
  {
   "cell_type": "code",
   "execution_count": null,
   "id": "a9100501",
   "metadata": {},
   "outputs": [],
   "source": [
    "pk1 = Pokemon(Name = \"Pikachu\", Type = \"Electric\", Health = 70)"
   ]
  },
  {
   "cell_type": "code",
   "execution_count": null,
   "id": "d6c7d6a5",
   "metadata": {},
   "outputs": [],
   "source": [
    "pk1.Name"
   ]
  },
  {
   "cell_type": "code",
   "execution_count": null,
   "id": "30892060",
   "metadata": {},
   "outputs": [],
   "source": [
    "pk1.whats_your_name()"
   ]
  },
  {
   "cell_type": "code",
   "execution_count": null,
   "id": "84c2e2d8",
   "metadata": {},
   "outputs": [],
   "source": [
    "pk1.attack()"
   ]
  },
  {
   "cell_type": "markdown",
   "id": "d919403f",
   "metadata": {},
   "source": [
    "### 3.2 - PyTorch Tensors vs Numpy Arrays"
   ]
  },
  {
   "cell_type": "code",
   "execution_count": null,
   "id": "5e5de4ce",
   "metadata": {},
   "outputs": [],
   "source": [
    "# Defining a numpy array\n",
    "array1 = np.array([1,2,3,4]) \n",
    "print(array1, type(array1))"
   ]
  },
  {
   "cell_type": "code",
   "execution_count": null,
   "id": "30219acc",
   "metadata": {},
   "outputs": [],
   "source": [
    "# Defining a torch tensor\n",
    "tensor1 = torch.tensor([1,2,3,4])\n",
    "print(tensor1, type(tensor1))"
   ]
  },
  {
   "cell_type": "code",
   "execution_count": null,
   "id": "1a25ec8a",
   "metadata": {},
   "outputs": [],
   "source": [
    "# Converting numpy array to torch tensor\n",
    "array1_torch = torch.from_numpy(array1)\n",
    "print(array1_torch, type(array1_torch))"
   ]
  },
  {
   "cell_type": "code",
   "execution_count": null,
   "id": "6169a8dd",
   "metadata": {},
   "outputs": [],
   "source": [
    "# Converting torch tensor to numpy array\n",
    "tensor1_numpy = tensor1.numpy()\n",
    "print(tensor1_numpy, type(tensor1_numpy))"
   ]
  },
  {
   "cell_type": "markdown",
   "id": "f6429c30",
   "metadata": {},
   "source": [
    "### 3.3 - Handling Torch Tensors"
   ]
  },
  {
   "cell_type": "code",
   "execution_count": null,
   "id": "a931cbd4",
   "metadata": {},
   "outputs": [],
   "source": [
    "# Transferring your torch tensor to CPU\n",
    "tensor1_cpu = tensor1.cpu()\n",
    "print(tensor1_cpu.device)"
   ]
  },
  {
   "cell_type": "code",
   "execution_count": null,
   "id": "a71d086a",
   "metadata": {},
   "outputs": [],
   "source": [
    "# Transferring your torch tensor to GPU\n",
    "tensor1_gpu = tensor1.cuda()\n",
    "print(tensor1_gpu.device)"
   ]
  }
 ],
 "metadata": {
  "kernelspec": {
   "display_name": "Python 3 (ipykernel)",
   "language": "python",
   "name": "python3"
  },
  "language_info": {
   "codemirror_mode": {
    "name": "ipython",
    "version": 3
   },
   "file_extension": ".py",
   "mimetype": "text/x-python",
   "name": "python",
   "nbconvert_exporter": "python",
   "pygments_lexer": "ipython3",
   "version": "3.11.8"
  }
 },
 "nbformat": 4,
 "nbformat_minor": 5
}
