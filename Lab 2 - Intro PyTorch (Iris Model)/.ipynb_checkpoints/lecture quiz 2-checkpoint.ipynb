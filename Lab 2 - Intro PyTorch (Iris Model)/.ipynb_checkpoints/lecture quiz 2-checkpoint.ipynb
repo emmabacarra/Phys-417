{
 "cells": [
  {
   "cell_type": "code",
   "execution_count": 1,
   "id": "82e36dcc-367b-4044-9fbf-91416c5f3cde",
   "metadata": {},
   "outputs": [],
   "source": [
    "# Import neccessary packages\n",
    "\n",
    "%matplotlib inline\n",
    "\n",
    "import numpy as np\n",
    "import pandas as pd\n",
    "import matplotlib.pyplot as plt\n",
    "\n",
    "import torch"
   ]
  },
  {
   "cell_type": "code",
   "execution_count": null,
   "id": "7506b332-0006-493c-ae32-bcf6b66c82ee",
   "metadata": {},
   "outputs": [],
   "source": [
    "class myModel(torch.nn.Module):\n",
    "\n",
    "    def __init__(self): # building skeleton\n",
    "        super(myModel, self).__init__() \n",
    "\n",
    "        self.input_layer = torch.nn.Linear(10, 32)\n",
    "        self.hidden_layer1 = torch.nn.Sigmoid(32, 16)\n",
    "        self.hidden_layer2 = torch.nn.Sigmoid(16, 5)\n",
    "        self.dropout_layer = torch.nn.Dropout(0.3)\n",
    "        self.ouput_layer = torch.nn.Softmax(dim = 1)\n",
    "\n",
    "    def forward(self, x): # passing data through model\n",
    "        x = self.input_layer(x)\n",
    "        x = self.hidden_layer1(x)\n",
    "        x = self.hidden_layer2(x)\n",
    "        x = self.dropout_layer(x)\n",
    "        x = self.ouput_layer(x)\n",
    "        \n",
    "        out = torch.nn.functional.relu(x) # accounts for non-linearity\n",
    "        return out"
   ]
  }
 ],
 "metadata": {
  "kernelspec": {
   "display_name": "Python 3 (ipykernel)",
   "language": "python",
   "name": "python3"
  },
  "language_info": {
   "codemirror_mode": {
    "name": "ipython",
    "version": 3
   },
   "file_extension": ".py",
   "mimetype": "text/x-python",
   "name": "python",
   "nbconvert_exporter": "python",
   "pygments_lexer": "ipython3",
   "version": "3.11.8"
  }
 },
 "nbformat": 4,
 "nbformat_minor": 5
}
